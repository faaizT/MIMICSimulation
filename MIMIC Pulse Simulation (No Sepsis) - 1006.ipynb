{
 "cells": [
  {
   "cell_type": "markdown",
   "metadata": {},
   "source": [
    "# Simulating MIMIC Patient (No Sepsis)\n",
    "We used Pulse to simulate patients in MIMIC (without adding the Sepsis condition), initializing them using their readings in MIMIC, and administering IV fluids and vasopressors at each time step as done in MIMIC. The idea is to compare patient trajectories for identical patients with and without Sepsis. (See [MIMICSimulator.py](https://gitlab.kitware.com/faaizT/engine/-/blob/local-changes/src/python/pulse/rlengine/SimulationEngine.py) for more details about the simulations.)  \n",
    "This note compares a patient in MIMIC with their simulated counterpart. This version includes the env changes induced every hour based on patients' FiO2 readings."
   ]
  },
  {
   "cell_type": "code",
   "execution_count": 1,
   "metadata": {},
   "outputs": [],
   "source": [
    "import pandas as pd\n",
    "icustayid = 1006.0\n",
    "export_dir = \"/data/localhost/taufiq/export-dir/\"\n",
    "mimic_csv = \"/data/localhost/taufiq/Pulse/engine/src/python/pulse/rlengine/resources/MIMICtable-1hourly_entire-stay.csv\""
   ]
  },
  {
   "cell_type": "code",
   "execution_count": 2,
   "metadata": {},
   "outputs": [],
   "source": [
    "simulation = pd.read_csv(export_dir + \"simulation_v2_\" + str(icustayid) + \"_final.csv\")\n",
    "simulation = simulation.replace(r\"[\\[|\\]]\", \"\", regex=True)"
   ]
  },
  {
   "cell_type": "code",
   "execution_count": 3,
   "metadata": {
    "scrolled": true
   },
   "outputs": [
    {
     "data": {
      "text/html": [
       "<div>\n",
       "<style scoped>\n",
       "    .dataframe tbody tr th:only-of-type {\n",
       "        vertical-align: middle;\n",
       "    }\n",
       "\n",
       "    .dataframe tbody tr th {\n",
       "        vertical-align: top;\n",
       "    }\n",
       "\n",
       "    .dataframe thead th {\n",
       "        text-align: right;\n",
       "    }\n",
       "</style>\n",
       "<table border=\"1\" class=\"dataframe\">\n",
       "  <thead>\n",
       "    <tr style=\"text-align: right;\">\n",
       "      <th></th>\n",
       "      <th>ArterialPressure (mmHg)</th>\n",
       "      <th>BloodVolume (mL)</th>\n",
       "      <th>Carina - CarbonDioxide - PartialPressure (mmHg)</th>\n",
       "      <th>CoreTemperature (degC)</th>\n",
       "      <th>DiastolicArterialPressure (mmHg)</th>\n",
       "      <th>EndTidalCarbonDioxidePressure (mmHg)</th>\n",
       "      <th>HeartRate (1/min)</th>\n",
       "      <th>Lead3ElectricPotential (mV)</th>\n",
       "      <th>MeanArterialPressure (mmHg)</th>\n",
       "      <th>OxygenSaturation (None)</th>\n",
       "      <th>RespirationRate (1/min)</th>\n",
       "      <th>SimulationTime(s)</th>\n",
       "      <th>SystolicArterialPressure (mmHg)</th>\n",
       "      <th>time</th>\n",
       "    </tr>\n",
       "  </thead>\n",
       "  <tbody>\n",
       "    <tr>\n",
       "      <th>0</th>\n",
       "      <td>69.5880355306601</td>\n",
       "      <td>4917.656722624139</td>\n",
       "      <td>33.57007008233667</td>\n",
       "      <td>37.03112105990374</td>\n",
       "      <td>67.74891309948815</td>\n",
       "      <td>33.273270036002884</td>\n",
       "      <td>73.17073170731703</td>\n",
       "      <td>0.0</td>\n",
       "      <td>83.57644879719912</td>\n",
       "      <td>0.9744146953943368</td>\n",
       "      <td>18.987341772151932</td>\n",
       "      <td>0.0</td>\n",
       "      <td>97.10653809081117</td>\n",
       "      <td>4.330306e+09</td>\n",
       "    </tr>\n",
       "    <tr>\n",
       "      <th>1</th>\n",
       "      <td>11.272896615848877</td>\n",
       "      <td>6738.376298973135</td>\n",
       "      <td>15.729064249529554</td>\n",
       "      <td>38.19455388935228</td>\n",
       "      <td>13.671324079401558</td>\n",
       "      <td>16.375282366640597</td>\n",
       "      <td>43.47826086956519</td>\n",
       "      <td>0.6680000000000001</td>\n",
       "      <td>14.576964093824854</td>\n",
       "      <td>0.45589847426105495</td>\n",
       "      <td>0.0</td>\n",
       "      <td>33778.8400004606</td>\n",
       "      <td>15.346566923323651</td>\n",
       "      <td>4.330342e+09</td>\n",
       "    </tr>\n",
       "    <tr>\n",
       "      <th>2</th>\n",
       "      <td>11.272896615848877</td>\n",
       "      <td>6738.376298973135</td>\n",
       "      <td>15.729064249529554</td>\n",
       "      <td>38.19455388935228</td>\n",
       "      <td>13.671324079401558</td>\n",
       "      <td>16.375282366640597</td>\n",
       "      <td>43.47826086956519</td>\n",
       "      <td>0.6680000000000001</td>\n",
       "      <td>14.576964093824854</td>\n",
       "      <td>0.45589847426105495</td>\n",
       "      <td>0.0</td>\n",
       "      <td>33778.8400004606</td>\n",
       "      <td>15.346566923323651</td>\n",
       "      <td>4.330378e+09</td>\n",
       "    </tr>\n",
       "    <tr>\n",
       "      <th>3</th>\n",
       "      <td>11.272896615848877</td>\n",
       "      <td>6738.376298973135</td>\n",
       "      <td>15.729064249529554</td>\n",
       "      <td>38.19455388935228</td>\n",
       "      <td>13.671324079401558</td>\n",
       "      <td>16.375282366640597</td>\n",
       "      <td>43.47826086956519</td>\n",
       "      <td>0.6680000000000001</td>\n",
       "      <td>14.576964093824854</td>\n",
       "      <td>0.45589847426105495</td>\n",
       "      <td>0.0</td>\n",
       "      <td>33778.8400004606</td>\n",
       "      <td>15.346566923323651</td>\n",
       "      <td>4.330382e+09</td>\n",
       "    </tr>\n",
       "    <tr>\n",
       "      <th>4</th>\n",
       "      <td>11.272896615848877</td>\n",
       "      <td>6738.376298973135</td>\n",
       "      <td>15.729064249529554</td>\n",
       "      <td>38.19455388935228</td>\n",
       "      <td>13.671324079401558</td>\n",
       "      <td>16.375282366640597</td>\n",
       "      <td>43.47826086956519</td>\n",
       "      <td>0.6680000000000001</td>\n",
       "      <td>14.576964093824854</td>\n",
       "      <td>0.45589847426105495</td>\n",
       "      <td>0.0</td>\n",
       "      <td>33778.8400004606</td>\n",
       "      <td>15.346566923323651</td>\n",
       "      <td>4.330385e+09</td>\n",
       "    </tr>\n",
       "  </tbody>\n",
       "</table>\n",
       "</div>"
      ],
      "text/plain": [
       "  ArterialPressure (mmHg)   BloodVolume (mL)  \\\n",
       "0        69.5880355306601  4917.656722624139   \n",
       "1      11.272896615848877  6738.376298973135   \n",
       "2      11.272896615848877  6738.376298973135   \n",
       "3      11.272896615848877  6738.376298973135   \n",
       "4      11.272896615848877  6738.376298973135   \n",
       "\n",
       "  Carina - CarbonDioxide - PartialPressure (mmHg) CoreTemperature (degC)  \\\n",
       "0                               33.57007008233667      37.03112105990374   \n",
       "1                              15.729064249529554      38.19455388935228   \n",
       "2                              15.729064249529554      38.19455388935228   \n",
       "3                              15.729064249529554      38.19455388935228   \n",
       "4                              15.729064249529554      38.19455388935228   \n",
       "\n",
       "  DiastolicArterialPressure (mmHg) EndTidalCarbonDioxidePressure (mmHg)  \\\n",
       "0                67.74891309948815                   33.273270036002884   \n",
       "1               13.671324079401558                   16.375282366640597   \n",
       "2               13.671324079401558                   16.375282366640597   \n",
       "3               13.671324079401558                   16.375282366640597   \n",
       "4               13.671324079401558                   16.375282366640597   \n",
       "\n",
       "   HeartRate (1/min) Lead3ElectricPotential (mV) MeanArterialPressure (mmHg)  \\\n",
       "0  73.17073170731703                         0.0           83.57644879719912   \n",
       "1  43.47826086956519          0.6680000000000001          14.576964093824854   \n",
       "2  43.47826086956519          0.6680000000000001          14.576964093824854   \n",
       "3  43.47826086956519          0.6680000000000001          14.576964093824854   \n",
       "4  43.47826086956519          0.6680000000000001          14.576964093824854   \n",
       "\n",
       "  OxygenSaturation (None) RespirationRate (1/min) SimulationTime(s)  \\\n",
       "0      0.9744146953943368      18.987341772151932               0.0   \n",
       "1     0.45589847426105495                     0.0  33778.8400004606   \n",
       "2     0.45589847426105495                     0.0  33778.8400004606   \n",
       "3     0.45589847426105495                     0.0  33778.8400004606   \n",
       "4     0.45589847426105495                     0.0  33778.8400004606   \n",
       "\n",
       "  SystolicArterialPressure (mmHg)          time  \n",
       "0               97.10653809081117  4.330306e+09  \n",
       "1              15.346566923323651  4.330342e+09  \n",
       "2              15.346566923323651  4.330378e+09  \n",
       "3              15.346566923323651  4.330382e+09  \n",
       "4              15.346566923323651  4.330385e+09  "
      ]
     },
     "execution_count": 3,
     "metadata": {},
     "output_type": "execute_result"
    }
   ],
   "source": [
    "simulation.head()"
   ]
  },
  {
   "cell_type": "code",
   "execution_count": 4,
   "metadata": {},
   "outputs": [
    {
     "data": {
      "text/plain": [
       "61"
      ]
     },
     "execution_count": 4,
     "metadata": {},
     "output_type": "execute_result"
    }
   ],
   "source": [
    "len(simulation)"
   ]
  },
  {
   "cell_type": "code",
   "execution_count": 5,
   "metadata": {},
   "outputs": [
    {
     "data": {
      "text/html": [
       "<div>\n",
       "<style scoped>\n",
       "    .dataframe tbody tr th:only-of-type {\n",
       "        vertical-align: middle;\n",
       "    }\n",
       "\n",
       "    .dataframe tbody tr th {\n",
       "        vertical-align: top;\n",
       "    }\n",
       "\n",
       "    .dataframe thead th {\n",
       "        text-align: right;\n",
       "    }\n",
       "</style>\n",
       "<table border=\"1\" class=\"dataframe\">\n",
       "  <thead>\n",
       "    <tr style=\"text-align: right;\">\n",
       "      <th></th>\n",
       "      <th>bloc</th>\n",
       "      <th>icustay_id</th>\n",
       "      <th>charttime</th>\n",
       "      <th>gender</th>\n",
       "      <th>age</th>\n",
       "      <th>elixhauser</th>\n",
       "      <th>re_admission</th>\n",
       "      <th>died_in_hosp</th>\n",
       "      <th>died_within_48h_of_out_time</th>\n",
       "      <th>mortality_90d</th>\n",
       "      <th>...</th>\n",
       "      <th>Shock_Index</th>\n",
       "      <th>PaO2_FiO2</th>\n",
       "      <th>median_dose_vaso</th>\n",
       "      <th>max_dose_vaso</th>\n",
       "      <th>input_total</th>\n",
       "      <th>input_1hourly</th>\n",
       "      <th>output_total</th>\n",
       "      <th>output_1hourly</th>\n",
       "      <th>cumulated_balance</th>\n",
       "      <th>sepsis</th>\n",
       "    </tr>\n",
       "  </thead>\n",
       "  <tbody>\n",
       "    <tr>\n",
       "      <th>0</th>\n",
       "      <td>1.0</td>\n",
       "      <td>1006.0</td>\n",
       "      <td>4.330306e+09</td>\n",
       "      <td>0.0</td>\n",
       "      <td>25154.170995</td>\n",
       "      <td>3.0</td>\n",
       "      <td>0.0</td>\n",
       "      <td>1.0</td>\n",
       "      <td>1.0</td>\n",
       "      <td>1.0</td>\n",
       "      <td>...</td>\n",
       "      <td>0.750000</td>\n",
       "      <td>206.000000</td>\n",
       "      <td>0.0</td>\n",
       "      <td>0.0</td>\n",
       "      <td>0.0</td>\n",
       "      <td>0.0</td>\n",
       "      <td>8166.0</td>\n",
       "      <td>4083.0</td>\n",
       "      <td>-8166.0</td>\n",
       "      <td>1.0</td>\n",
       "    </tr>\n",
       "    <tr>\n",
       "      <th>1</th>\n",
       "      <td>11.0</td>\n",
       "      <td>1006.0</td>\n",
       "      <td>4.330342e+09</td>\n",
       "      <td>0.0</td>\n",
       "      <td>25154.170995</td>\n",
       "      <td>3.0</td>\n",
       "      <td>0.0</td>\n",
       "      <td>1.0</td>\n",
       "      <td>1.0</td>\n",
       "      <td>1.0</td>\n",
       "      <td>...</td>\n",
       "      <td>0.750000</td>\n",
       "      <td>206.000000</td>\n",
       "      <td>0.0</td>\n",
       "      <td>0.0</td>\n",
       "      <td>0.0</td>\n",
       "      <td>0.0</td>\n",
       "      <td>12249.0</td>\n",
       "      <td>4083.0</td>\n",
       "      <td>-12249.0</td>\n",
       "      <td>1.0</td>\n",
       "    </tr>\n",
       "    <tr>\n",
       "      <th>2</th>\n",
       "      <td>21.0</td>\n",
       "      <td>1006.0</td>\n",
       "      <td>4.330378e+09</td>\n",
       "      <td>0.0</td>\n",
       "      <td>25154.170995</td>\n",
       "      <td>3.0</td>\n",
       "      <td>0.0</td>\n",
       "      <td>1.0</td>\n",
       "      <td>1.0</td>\n",
       "      <td>1.0</td>\n",
       "      <td>...</td>\n",
       "      <td>0.831461</td>\n",
       "      <td>240.000000</td>\n",
       "      <td>0.0</td>\n",
       "      <td>0.0</td>\n",
       "      <td>0.0</td>\n",
       "      <td>0.0</td>\n",
       "      <td>16332.0</td>\n",
       "      <td>4083.0</td>\n",
       "      <td>-16332.0</td>\n",
       "      <td>1.0</td>\n",
       "    </tr>\n",
       "    <tr>\n",
       "      <th>3</th>\n",
       "      <td>22.0</td>\n",
       "      <td>1006.0</td>\n",
       "      <td>4.330382e+09</td>\n",
       "      <td>0.0</td>\n",
       "      <td>25154.170995</td>\n",
       "      <td>3.0</td>\n",
       "      <td>0.0</td>\n",
       "      <td>1.0</td>\n",
       "      <td>1.0</td>\n",
       "      <td>1.0</td>\n",
       "      <td>...</td>\n",
       "      <td>0.955357</td>\n",
       "      <td>96.000000</td>\n",
       "      <td>0.0</td>\n",
       "      <td>0.0</td>\n",
       "      <td>0.0</td>\n",
       "      <td>0.0</td>\n",
       "      <td>20415.0</td>\n",
       "      <td>4083.0</td>\n",
       "      <td>-20415.0</td>\n",
       "      <td>1.0</td>\n",
       "    </tr>\n",
       "    <tr>\n",
       "      <th>4</th>\n",
       "      <td>23.0</td>\n",
       "      <td>1006.0</td>\n",
       "      <td>4.330385e+09</td>\n",
       "      <td>0.0</td>\n",
       "      <td>25154.170995</td>\n",
       "      <td>3.0</td>\n",
       "      <td>0.0</td>\n",
       "      <td>1.0</td>\n",
       "      <td>1.0</td>\n",
       "      <td>1.0</td>\n",
       "      <td>...</td>\n",
       "      <td>0.812749</td>\n",
       "      <td>109.714286</td>\n",
       "      <td>0.0</td>\n",
       "      <td>0.0</td>\n",
       "      <td>175.0</td>\n",
       "      <td>175.0</td>\n",
       "      <td>24298.0</td>\n",
       "      <td>3883.0</td>\n",
       "      <td>-24123.0</td>\n",
       "      <td>1.0</td>\n",
       "    </tr>\n",
       "  </tbody>\n",
       "</table>\n",
       "<p>5 rows × 60 columns</p>\n",
       "</div>"
      ],
      "text/plain": [
       "   bloc  icustay_id     charttime  gender           age  elixhauser  \\\n",
       "0   1.0      1006.0  4.330306e+09     0.0  25154.170995         3.0   \n",
       "1  11.0      1006.0  4.330342e+09     0.0  25154.170995         3.0   \n",
       "2  21.0      1006.0  4.330378e+09     0.0  25154.170995         3.0   \n",
       "3  22.0      1006.0  4.330382e+09     0.0  25154.170995         3.0   \n",
       "4  23.0      1006.0  4.330385e+09     0.0  25154.170995         3.0   \n",
       "\n",
       "   re_admission  died_in_hosp  died_within_48h_of_out_time  mortality_90d  \\\n",
       "0           0.0           1.0                          1.0            1.0   \n",
       "1           0.0           1.0                          1.0            1.0   \n",
       "2           0.0           1.0                          1.0            1.0   \n",
       "3           0.0           1.0                          1.0            1.0   \n",
       "4           0.0           1.0                          1.0            1.0   \n",
       "\n",
       "   ...  Shock_Index   PaO2_FiO2  median_dose_vaso  max_dose_vaso  input_total  \\\n",
       "0  ...     0.750000  206.000000               0.0            0.0          0.0   \n",
       "1  ...     0.750000  206.000000               0.0            0.0          0.0   \n",
       "2  ...     0.831461  240.000000               0.0            0.0          0.0   \n",
       "3  ...     0.955357   96.000000               0.0            0.0          0.0   \n",
       "4  ...     0.812749  109.714286               0.0            0.0        175.0   \n",
       "\n",
       "   input_1hourly  output_total  output_1hourly  cumulated_balance  sepsis  \n",
       "0            0.0        8166.0          4083.0            -8166.0     1.0  \n",
       "1            0.0       12249.0          4083.0           -12249.0     1.0  \n",
       "2            0.0       16332.0          4083.0           -16332.0     1.0  \n",
       "3            0.0       20415.0          4083.0           -20415.0     1.0  \n",
       "4          175.0       24298.0          3883.0           -24123.0     1.0  \n",
       "\n",
       "[5 rows x 60 columns]"
      ]
     },
     "execution_count": 5,
     "metadata": {},
     "output_type": "execute_result"
    }
   ],
   "source": [
    "MIMICtable = pd.read_csv(mimic_csv)\n",
    "MIMICtable.head()\n"
   ]
  },
  {
   "cell_type": "code",
   "execution_count": 6,
   "metadata": {},
   "outputs": [
    {
     "data": {
      "text/plain": [
       "61"
      ]
     },
     "execution_count": 6,
     "metadata": {},
     "output_type": "execute_result"
    }
   ],
   "source": [
    "MIMICtable_filtered = MIMICtable[MIMICtable['icustay_id']==icustayid]\n",
    "len(MIMICtable_filtered)"
   ]
  },
  {
   "cell_type": "code",
   "execution_count": 7,
   "metadata": {},
   "outputs": [
    {
     "data": {
      "text/html": [
       "<div>\n",
       "<style scoped>\n",
       "    .dataframe tbody tr th:only-of-type {\n",
       "        vertical-align: middle;\n",
       "    }\n",
       "\n",
       "    .dataframe tbody tr th {\n",
       "        vertical-align: top;\n",
       "    }\n",
       "\n",
       "    .dataframe thead th {\n",
       "        text-align: right;\n",
       "    }\n",
       "</style>\n",
       "<table border=\"1\" class=\"dataframe\">\n",
       "  <thead>\n",
       "    <tr style=\"text-align: right;\">\n",
       "      <th></th>\n",
       "      <th>bloc</th>\n",
       "      <th>icustay_id</th>\n",
       "      <th>charttime</th>\n",
       "      <th>gender</th>\n",
       "      <th>age</th>\n",
       "      <th>elixhauser</th>\n",
       "      <th>re_admission</th>\n",
       "      <th>died_in_hosp</th>\n",
       "      <th>died_within_48h_of_out_time</th>\n",
       "      <th>mortality_90d</th>\n",
       "      <th>...</th>\n",
       "      <th>Shock_Index</th>\n",
       "      <th>PaO2_FiO2</th>\n",
       "      <th>median_dose_vaso</th>\n",
       "      <th>max_dose_vaso</th>\n",
       "      <th>input_total</th>\n",
       "      <th>input_1hourly</th>\n",
       "      <th>output_total</th>\n",
       "      <th>output_1hourly</th>\n",
       "      <th>cumulated_balance</th>\n",
       "      <th>sepsis</th>\n",
       "    </tr>\n",
       "  </thead>\n",
       "  <tbody>\n",
       "    <tr>\n",
       "      <th>0</th>\n",
       "      <td>1.0</td>\n",
       "      <td>1006.0</td>\n",
       "      <td>4.330306e+09</td>\n",
       "      <td>0.0</td>\n",
       "      <td>25154.170995</td>\n",
       "      <td>3.0</td>\n",
       "      <td>0.0</td>\n",
       "      <td>1.0</td>\n",
       "      <td>1.0</td>\n",
       "      <td>1.0</td>\n",
       "      <td>...</td>\n",
       "      <td>0.750000</td>\n",
       "      <td>206.000000</td>\n",
       "      <td>0.0</td>\n",
       "      <td>0.0</td>\n",
       "      <td>0.0</td>\n",
       "      <td>0.0</td>\n",
       "      <td>8166.0</td>\n",
       "      <td>4083.0</td>\n",
       "      <td>-8166.0</td>\n",
       "      <td>1.0</td>\n",
       "    </tr>\n",
       "    <tr>\n",
       "      <th>1</th>\n",
       "      <td>11.0</td>\n",
       "      <td>1006.0</td>\n",
       "      <td>4.330342e+09</td>\n",
       "      <td>0.0</td>\n",
       "      <td>25154.170995</td>\n",
       "      <td>3.0</td>\n",
       "      <td>0.0</td>\n",
       "      <td>1.0</td>\n",
       "      <td>1.0</td>\n",
       "      <td>1.0</td>\n",
       "      <td>...</td>\n",
       "      <td>0.750000</td>\n",
       "      <td>206.000000</td>\n",
       "      <td>0.0</td>\n",
       "      <td>0.0</td>\n",
       "      <td>0.0</td>\n",
       "      <td>0.0</td>\n",
       "      <td>12249.0</td>\n",
       "      <td>4083.0</td>\n",
       "      <td>-12249.0</td>\n",
       "      <td>1.0</td>\n",
       "    </tr>\n",
       "    <tr>\n",
       "      <th>2</th>\n",
       "      <td>21.0</td>\n",
       "      <td>1006.0</td>\n",
       "      <td>4.330378e+09</td>\n",
       "      <td>0.0</td>\n",
       "      <td>25154.170995</td>\n",
       "      <td>3.0</td>\n",
       "      <td>0.0</td>\n",
       "      <td>1.0</td>\n",
       "      <td>1.0</td>\n",
       "      <td>1.0</td>\n",
       "      <td>...</td>\n",
       "      <td>0.831461</td>\n",
       "      <td>240.000000</td>\n",
       "      <td>0.0</td>\n",
       "      <td>0.0</td>\n",
       "      <td>0.0</td>\n",
       "      <td>0.0</td>\n",
       "      <td>16332.0</td>\n",
       "      <td>4083.0</td>\n",
       "      <td>-16332.0</td>\n",
       "      <td>1.0</td>\n",
       "    </tr>\n",
       "    <tr>\n",
       "      <th>3</th>\n",
       "      <td>22.0</td>\n",
       "      <td>1006.0</td>\n",
       "      <td>4.330382e+09</td>\n",
       "      <td>0.0</td>\n",
       "      <td>25154.170995</td>\n",
       "      <td>3.0</td>\n",
       "      <td>0.0</td>\n",
       "      <td>1.0</td>\n",
       "      <td>1.0</td>\n",
       "      <td>1.0</td>\n",
       "      <td>...</td>\n",
       "      <td>0.955357</td>\n",
       "      <td>96.000000</td>\n",
       "      <td>0.0</td>\n",
       "      <td>0.0</td>\n",
       "      <td>0.0</td>\n",
       "      <td>0.0</td>\n",
       "      <td>20415.0</td>\n",
       "      <td>4083.0</td>\n",
       "      <td>-20415.0</td>\n",
       "      <td>1.0</td>\n",
       "    </tr>\n",
       "    <tr>\n",
       "      <th>4</th>\n",
       "      <td>23.0</td>\n",
       "      <td>1006.0</td>\n",
       "      <td>4.330385e+09</td>\n",
       "      <td>0.0</td>\n",
       "      <td>25154.170995</td>\n",
       "      <td>3.0</td>\n",
       "      <td>0.0</td>\n",
       "      <td>1.0</td>\n",
       "      <td>1.0</td>\n",
       "      <td>1.0</td>\n",
       "      <td>...</td>\n",
       "      <td>0.812749</td>\n",
       "      <td>109.714286</td>\n",
       "      <td>0.0</td>\n",
       "      <td>0.0</td>\n",
       "      <td>175.0</td>\n",
       "      <td>175.0</td>\n",
       "      <td>24298.0</td>\n",
       "      <td>3883.0</td>\n",
       "      <td>-24123.0</td>\n",
       "      <td>1.0</td>\n",
       "    </tr>\n",
       "  </tbody>\n",
       "</table>\n",
       "<p>5 rows × 60 columns</p>\n",
       "</div>"
      ],
      "text/plain": [
       "   bloc  icustay_id     charttime  gender           age  elixhauser  \\\n",
       "0   1.0      1006.0  4.330306e+09     0.0  25154.170995         3.0   \n",
       "1  11.0      1006.0  4.330342e+09     0.0  25154.170995         3.0   \n",
       "2  21.0      1006.0  4.330378e+09     0.0  25154.170995         3.0   \n",
       "3  22.0      1006.0  4.330382e+09     0.0  25154.170995         3.0   \n",
       "4  23.0      1006.0  4.330385e+09     0.0  25154.170995         3.0   \n",
       "\n",
       "   re_admission  died_in_hosp  died_within_48h_of_out_time  mortality_90d  \\\n",
       "0           0.0           1.0                          1.0            1.0   \n",
       "1           0.0           1.0                          1.0            1.0   \n",
       "2           0.0           1.0                          1.0            1.0   \n",
       "3           0.0           1.0                          1.0            1.0   \n",
       "4           0.0           1.0                          1.0            1.0   \n",
       "\n",
       "   ...  Shock_Index   PaO2_FiO2  median_dose_vaso  max_dose_vaso  input_total  \\\n",
       "0  ...     0.750000  206.000000               0.0            0.0          0.0   \n",
       "1  ...     0.750000  206.000000               0.0            0.0          0.0   \n",
       "2  ...     0.831461  240.000000               0.0            0.0          0.0   \n",
       "3  ...     0.955357   96.000000               0.0            0.0          0.0   \n",
       "4  ...     0.812749  109.714286               0.0            0.0        175.0   \n",
       "\n",
       "   input_1hourly  output_total  output_1hourly  cumulated_balance  sepsis  \n",
       "0            0.0        8166.0          4083.0            -8166.0     1.0  \n",
       "1            0.0       12249.0          4083.0           -12249.0     1.0  \n",
       "2            0.0       16332.0          4083.0           -16332.0     1.0  \n",
       "3            0.0       20415.0          4083.0           -20415.0     1.0  \n",
       "4          175.0       24298.0          3883.0           -24123.0     1.0  \n",
       "\n",
       "[5 rows x 60 columns]"
      ]
     },
     "execution_count": 7,
     "metadata": {},
     "output_type": "execute_result"
    }
   ],
   "source": [
    "MIMICtable_filtered.head()"
   ]
  },
  {
   "cell_type": "code",
   "execution_count": 8,
   "metadata": {},
   "outputs": [],
   "source": [
    "time = MIMICtable_filtered['charttime']\n",
    "diaBP_pulse = simulation['DiastolicArterialPressure (mmHg)']\n",
    "diaBP_mimic = MIMICtable_filtered['DiaBP']"
   ]
  },
  {
   "cell_type": "code",
   "execution_count": 9,
   "metadata": {},
   "outputs": [
    {
     "data": {
      "image/png": "[encoded data removed]",
      "text/plain": [
       "<Figure size 432x288 with 1 Axes>"
      ]
     },
     "metadata": {
      "needs_background": "light"
     },
     "output_type": "display_data"
    }
   ],
   "source": [
    "import matplotlib.pyplot as plt\n",
    "plt.plot(time, pd.to_numeric(diaBP_pulse))\n",
    "plt.plot(time, diaBP_mimic)\n",
    "plt.xlabel('Time(s)')\n",
    "plt.ylabel('mmHg')\n",
    "plt.title('Diastolic Arterial Pressure')\n",
    "plt.legend(['Pulse', 'MIMIC'])\n",
    "plt.show()"
   ]
  },
  {
   "cell_type": "code",
   "execution_count": 10,
   "metadata": {},
   "outputs": [
    {
     "data": {
      "image/png": "[encoded data removed]",
      "text/plain": [
       "<Figure size 432x288 with 1 Axes>"
      ]
     },
     "metadata": {
      "needs_background": "light"
     },
     "output_type": "display_data"
    }
   ],
   "source": [
    "sysBP_pulse = simulation['SystolicArterialPressure (mmHg)']\n",
    "sysBP_mimic = MIMICtable_filtered['SysBP']\n",
    "plt.plot(time, pd.to_numeric(sysBP_pulse))\n",
    "plt.plot(time, sysBP_mimic)\n",
    "plt.xlabel('Time(s)')\n",
    "plt.ylabel('mmHg')\n",
    "plt.title('Systolic Arterial Pressure')\n",
    "plt.legend(['Pulse', 'MIMIC'])\n",
    "plt.show()"
   ]
  },
  {
   "cell_type": "code",
   "execution_count": 11,
   "metadata": {},
   "outputs": [
    {
     "data": {
      "image/png": "[encoded data removed]",
      "text/plain": [
       "<Figure size 432x288 with 1 Axes>"
      ]
     },
     "metadata": {
      "needs_background": "light"
     },
     "output_type": "display_data"
    }
   ],
   "source": [
    "meanBP_pulse = simulation['MeanArterialPressure (mmHg)']\n",
    "meanBP_mimic = MIMICtable_filtered['MeanBP']\n",
    "plt.plot(time, pd.to_numeric(meanBP_pulse))\n",
    "plt.plot(time, meanBP_mimic)\n",
    "plt.xlabel('Time(s)')\n",
    "plt.ylabel('mmHg')\n",
    "plt.title('Mean Arterial Pressure')\n",
    "plt.legend(['Pulse', 'MIMIC'])\n",
    "plt.show()"
   ]
  },
  {
   "cell_type": "code",
   "execution_count": 12,
   "metadata": {},
   "outputs": [
    {
     "data": {
      "image/png": "[encoded data removed]",
      "text/plain": [
       "<Figure size 432x288 with 1 Axes>"
      ]
     },
     "metadata": {
      "needs_background": "light"
     },
     "output_type": "display_data"
    }
   ],
   "source": [
    "HR_pulse = simulation['HeartRate (1/min)']\n",
    "HR_mimic = MIMICtable_filtered['HR']\n",
    "plt.plot(time, pd.to_numeric(HR_pulse))\n",
    "plt.plot(time, HR_mimic)\n",
    "plt.xlabel('Time(s)')\n",
    "plt.ylabel('bpm')\n",
    "plt.title('Heart Rate')\n",
    "plt.legend(['Pulse', 'MIMIC'])\n",
    "plt.show()"
   ]
  },
  {
   "cell_type": "code",
   "execution_count": 13,
   "metadata": {},
   "outputs": [
    {
     "data": {
      "image/png": "[encoded data removed]",
      "text/plain": [
       "<Figure size 432x288 with 1 Axes>"
      ]
     },
     "metadata": {
      "needs_background": "light"
     },
     "output_type": "display_data"
    }
   ],
   "source": [
    "RR_pulse = simulation['RespirationRate (1/min)']\n",
    "RR_mimic = MIMICtable_filtered['RR']\n",
    "plt.plot(time, pd.to_numeric(RR_pulse))\n",
    "plt.plot(time, RR_mimic)\n",
    "plt.xlabel('Time(s)')\n",
    "plt.ylabel('(1/min)')\n",
    "plt.title('Respiration Rate')\n",
    "plt.legend(['Pulse', 'MIMIC'])\n",
    "plt.show()"
   ]
  },
  {
   "cell_type": "code",
   "execution_count": 14,
   "metadata": {},
   "outputs": [
    {
     "data": {
      "image/png": "[encoded data removed]",
      "text/plain": [
       "<Figure size 432x288 with 1 Axes>"
      ]
     },
     "metadata": {
      "needs_background": "light"
     },
     "output_type": "display_data"
    }
   ],
   "source": [
    "temp_pulse = simulation['CoreTemperature (degC)']\n",
    "temp_mimic = MIMICtable_filtered['Temp_C']\n",
    "plt.plot(time, pd.to_numeric(temp_pulse))\n",
    "plt.plot(time, temp_mimic)\n",
    "plt.xlabel('Time(s)')\n",
    "plt.ylabel('C')\n",
    "plt.title('Core Temperature')\n",
    "plt.legend(['Pulse', 'MIMIC'])\n",
    "plt.show()"
   ]
  }
 ],
 "metadata": {
  "kernelspec": {
   "display_name": "Python 3",
   "language": "python",
   "name": "python3"
  },
  "language_info": {
   "codemirror_mode": {
    "name": "ipython",
    "version": 3
   },
   "file_extension": ".py",
   "mimetype": "text/x-python",
   "name": "python",
   "nbconvert_exporter": "python",
   "pygments_lexer": "ipython3",
   "version": "3.8.7"
  }
 },
 "nbformat": 4,
 "nbformat_minor": 4
}
