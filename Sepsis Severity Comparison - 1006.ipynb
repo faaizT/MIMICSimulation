{
 "cells": [
  {
   "cell_type": "markdown",
   "metadata": {},
   "source": [
    "# Simulating MIMIC Patient\n",
    "We used Pulse to simulate patients in MIMIC, initializing them using their readings in MIMIC, and administering IV fluids and vasopressors at each time step as done in MIMIC. (See [MIMICSimulator.py](https://gitlab.kitware.com/faaizT/engine/-/blob/local-changes/src/python/pulse/rlengine/SimulationEngine.py) for more details about the simulations.)  \n",
    "This note compares a patient simulated in Pulse with different sepsis severities.  \n",
    "Old severity: 0.0833333  \n",
    "New severity: 0.583333"
   ]
  },
  {
   "cell_type": "code",
   "execution_count": 1,
   "metadata": {},
   "outputs": [],
   "source": [
    "import pandas as pd\n",
    "icustayid = 1006.0\n",
    "export_dir = \"/data/localhost/taufiq/export-dir/\"\n",
    "mimic_csv = \"/data/localhost/taufiq/Pulse/engine/src/python/pulse/rlengine/resources/MIMICtable-1hourly_entire-stay.csv\""
   ]
  },
  {
   "cell_type": "code",
   "execution_count": 2,
   "metadata": {},
   "outputs": [],
   "source": [
    "simulation_sepsis = pd.read_csv(export_dir + \"simulation_\" + str(icustayid) + \"_final_1613274021.csv\")\n",
    "simulation_sepsis = simulation_sepsis.replace(r\"[\\[|\\]]\", \"\", regex=True)"
   ]
  },
  {
   "cell_type": "code",
   "execution_count": 3,
   "metadata": {
    "scrolled": true
   },
   "outputs": [
    {
     "data": {
      "text/html": [
       "<div>\n",
       "<style scoped>\n",
       "    .dataframe tbody tr th:only-of-type {\n",
       "        vertical-align: middle;\n",
       "    }\n",
       "\n",
       "    .dataframe tbody tr th {\n",
       "        vertical-align: top;\n",
       "    }\n",
       "\n",
       "    .dataframe thead th {\n",
       "        text-align: right;\n",
       "    }\n",
       "</style>\n",
       "<table border=\"1\" class=\"dataframe\">\n",
       "  <thead>\n",
       "    <tr style=\"text-align: right;\">\n",
       "      <th></th>\n",
       "      <th>ArterialPressure (mmHg)</th>\n",
       "      <th>BloodVolume (mL)</th>\n",
       "      <th>Carina - CarbonDioxide - PartialPressure (mmHg)</th>\n",
       "      <th>CoreTemperature (degC)</th>\n",
       "      <th>DiastolicArterialPressure (mmHg)</th>\n",
       "      <th>EndTidalCarbonDioxidePressure (mmHg)</th>\n",
       "      <th>HeartRate (1/min)</th>\n",
       "      <th>Lead3ElectricPotential (mV)</th>\n",
       "      <th>MeanArterialPressure (mmHg)</th>\n",
       "      <th>OxygenSaturation (None)</th>\n",
       "      <th>RespirationRate (1/min)</th>\n",
       "      <th>SimulationTime(s)</th>\n",
       "      <th>SystolicArterialPressure (mmHg)</th>\n",
       "      <th>time</th>\n",
       "    </tr>\n",
       "  </thead>\n",
       "  <tbody>\n",
       "    <tr>\n",
       "      <th>0</th>\n",
       "      <td>74.66450526855601</td>\n",
       "      <td>4917.978472760195</td>\n",
       "      <td>14.633293884806704</td>\n",
       "      <td>37.03546061197983</td>\n",
       "      <td>68.40678107610306</td>\n",
       "      <td>33.28586302929822</td>\n",
       "      <td>74.99999999999996</td>\n",
       "      <td>0.04999999999999938</td>\n",
       "      <td>83.7739341724525</td>\n",
       "      <td>0.9743250149341743</td>\n",
       "      <td>18.987341772151932</td>\n",
       "      <td>0.0</td>\n",
       "      <td>96.84806363488552</td>\n",
       "      <td>4.330306e+09</td>\n",
       "    </tr>\n",
       "    <tr>\n",
       "      <th>1</th>\n",
       "      <td>105.52465290770701</td>\n",
       "      <td>5991.0347057502395</td>\n",
       "      <td>0.5478831808574116</td>\n",
       "      <td>37.241356865919556</td>\n",
       "      <td>61.97314583193669</td>\n",
       "      <td>33.65264368109973</td>\n",
       "      <td>57.692307692307665</td>\n",
       "      <td>0.17499999999999982</td>\n",
       "      <td>86.80574740957927</td>\n",
       "      <td>0.9751918031250787</td>\n",
       "      <td>19.8675496688742</td>\n",
       "      <td>36000.00000010506</td>\n",
       "      <td>106.27808542116456</td>\n",
       "      <td>4.330342e+09</td>\n",
       "    </tr>\n",
       "    <tr>\n",
       "      <th>2</th>\n",
       "      <td>84.36699397454268</td>\n",
       "      <td>6694.587101732265</td>\n",
       "      <td>33.69526632077312</td>\n",
       "      <td>37.2357544064954</td>\n",
       "      <td>53.41811093153724</td>\n",
       "      <td>33.74853749618413</td>\n",
       "      <td>45.454545454545425</td>\n",
       "      <td>0.0</td>\n",
       "      <td>83.98776512021337</td>\n",
       "      <td>0.9752820633730359</td>\n",
       "      <td>19.8675496688742</td>\n",
       "      <td>71999.99999669408</td>\n",
       "      <td>109.49886703935084</td>\n",
       "      <td>4.330378e+09</td>\n",
       "    </tr>\n",
       "    <tr>\n",
       "      <th>3</th>\n",
       "      <td>109.77634261942715</td>\n",
       "      <td>6760.425681804711</td>\n",
       "      <td>33.92038290755432</td>\n",
       "      <td>37.23511879108406</td>\n",
       "      <td>61.15184847536049</td>\n",
       "      <td>33.62379191839124</td>\n",
       "      <td>48.38709677419352</td>\n",
       "      <td>0.0</td>\n",
       "      <td>90.18419385600127</td>\n",
       "      <td>0.9753157252947247</td>\n",
       "      <td>20.00000000000003</td>\n",
       "      <td>75599.9999974275</td>\n",
       "      <td>116.16687138323397</td>\n",
       "      <td>4.330382e+09</td>\n",
       "    </tr>\n",
       "    <tr>\n",
       "      <th>4</th>\n",
       "      <td>100.40912774827144</td>\n",
       "      <td>6824.6364429937785</td>\n",
       "      <td>16.011008403359686</td>\n",
       "      <td>37.23468060446555</td>\n",
       "      <td>52.7525051977045</td>\n",
       "      <td>33.744107668745116</td>\n",
       "      <td>41.66666666666664</td>\n",
       "      <td>0.0</td>\n",
       "      <td>82.57820821462263</td>\n",
       "      <td>0.9752721990490723</td>\n",
       "      <td>19.8675496688742</td>\n",
       "      <td>79199.99999816091</td>\n",
       "      <td>109.98894149887161</td>\n",
       "      <td>4.330385e+09</td>\n",
       "    </tr>\n",
       "  </tbody>\n",
       "</table>\n",
       "</div>"
      ],
      "text/plain": [
       "  ArterialPressure (mmHg)    BloodVolume (mL)  \\\n",
       "0       74.66450526855601   4917.978472760195   \n",
       "1      105.52465290770701  5991.0347057502395   \n",
       "2       84.36699397454268   6694.587101732265   \n",
       "3      109.77634261942715   6760.425681804711   \n",
       "4      100.40912774827144  6824.6364429937785   \n",
       "\n",
       "  Carina - CarbonDioxide - PartialPressure (mmHg) CoreTemperature (degC)  \\\n",
       "0                              14.633293884806704      37.03546061197983   \n",
       "1                              0.5478831808574116     37.241356865919556   \n",
       "2                               33.69526632077312       37.2357544064954   \n",
       "3                               33.92038290755432      37.23511879108406   \n",
       "4                              16.011008403359686      37.23468060446555   \n",
       "\n",
       "  DiastolicArterialPressure (mmHg) EndTidalCarbonDioxidePressure (mmHg)  \\\n",
       "0                68.40678107610306                    33.28586302929822   \n",
       "1                61.97314583193669                    33.65264368109973   \n",
       "2                53.41811093153724                    33.74853749618413   \n",
       "3                61.15184847536049                    33.62379191839124   \n",
       "4                 52.7525051977045                   33.744107668745116   \n",
       "\n",
       "    HeartRate (1/min) Lead3ElectricPotential (mV) MeanArterialPressure (mmHg)  \\\n",
       "0   74.99999999999996         0.04999999999999938            83.7739341724525   \n",
       "1  57.692307692307665         0.17499999999999982           86.80574740957927   \n",
       "2  45.454545454545425                         0.0           83.98776512021337   \n",
       "3   48.38709677419352                         0.0           90.18419385600127   \n",
       "4   41.66666666666664                         0.0           82.57820821462263   \n",
       "\n",
       "  OxygenSaturation (None) RespirationRate (1/min)  SimulationTime(s)  \\\n",
       "0      0.9743250149341743      18.987341772151932                0.0   \n",
       "1      0.9751918031250787        19.8675496688742  36000.00000010506   \n",
       "2      0.9752820633730359        19.8675496688742  71999.99999669408   \n",
       "3      0.9753157252947247       20.00000000000003   75599.9999974275   \n",
       "4      0.9752721990490723        19.8675496688742  79199.99999816091   \n",
       "\n",
       "  SystolicArterialPressure (mmHg)          time  \n",
       "0               96.84806363488552  4.330306e+09  \n",
       "1              106.27808542116456  4.330342e+09  \n",
       "2              109.49886703935084  4.330378e+09  \n",
       "3              116.16687138323397  4.330382e+09  \n",
       "4              109.98894149887161  4.330385e+09  "
      ]
     },
     "execution_count": 3,
     "metadata": {},
     "output_type": "execute_result"
    }
   ],
   "source": [
    "simulation_sepsis.head()"
   ]
  },
  {
   "cell_type": "code",
   "execution_count": 4,
   "metadata": {},
   "outputs": [
    {
     "data": {
      "text/plain": [
       "61"
      ]
     },
     "execution_count": 4,
     "metadata": {},
     "output_type": "execute_result"
    }
   ],
   "source": [
    "len(simulation_sepsis)"
   ]
  },
  {
   "cell_type": "code",
   "execution_count": 5,
   "metadata": {},
   "outputs": [],
   "source": [
    "simulation_max_sepsis = pd.read_csv(export_dir + \"simulation_max_sepsis_\" + str(icustayid) + \"_final_1613363075.csv\")\n",
    "simulation_max_sepsis = simulation_max_sepsis.replace(r\"[\\[|\\]]\", \"\", regex=True)"
   ]
  },
  {
   "cell_type": "code",
   "execution_count": 6,
   "metadata": {},
   "outputs": [
    {
     "data": {
      "text/plain": [
       "61"
      ]
     },
     "execution_count": 6,
     "metadata": {},
     "output_type": "execute_result"
    }
   ],
   "source": [
    "len(simulation_max_sepsis)"
   ]
  },
  {
   "cell_type": "code",
   "execution_count": 7,
   "metadata": {},
   "outputs": [
    {
     "data": {
      "text/html": [
       "<div>\n",
       "<style scoped>\n",
       "    .dataframe tbody tr th:only-of-type {\n",
       "        vertical-align: middle;\n",
       "    }\n",
       "\n",
       "    .dataframe tbody tr th {\n",
       "        vertical-align: top;\n",
       "    }\n",
       "\n",
       "    .dataframe thead th {\n",
       "        text-align: right;\n",
       "    }\n",
       "</style>\n",
       "<table border=\"1\" class=\"dataframe\">\n",
       "  <thead>\n",
       "    <tr style=\"text-align: right;\">\n",
       "      <th></th>\n",
       "      <th>ArterialPressure (mmHg)</th>\n",
       "      <th>BloodVolume (mL)</th>\n",
       "      <th>Carina - CarbonDioxide - PartialPressure (mmHg)</th>\n",
       "      <th>CoreTemperature (degC)</th>\n",
       "      <th>DiastolicArterialPressure (mmHg)</th>\n",
       "      <th>EndTidalCarbonDioxidePressure (mmHg)</th>\n",
       "      <th>HeartRate (1/min)</th>\n",
       "      <th>Lead3ElectricPotential (mV)</th>\n",
       "      <th>MeanArterialPressure (mmHg)</th>\n",
       "      <th>OxygenSaturation (None)</th>\n",
       "      <th>RespirationRate (1/min)</th>\n",
       "      <th>SimulationTime(s)</th>\n",
       "      <th>SystolicArterialPressure (mmHg)</th>\n",
       "      <th>time</th>\n",
       "    </tr>\n",
       "  </thead>\n",
       "  <tbody>\n",
       "    <tr>\n",
       "      <th>0</th>\n",
       "      <td>74.66450526855601</td>\n",
       "      <td>4917.978472760195</td>\n",
       "      <td>14.633293884806704</td>\n",
       "      <td>37.03546061197983</td>\n",
       "      <td>68.40678107610306</td>\n",
       "      <td>33.28586302929822</td>\n",
       "      <td>74.99999999999996</td>\n",
       "      <td>0.04999999999999938</td>\n",
       "      <td>83.7739341724525</td>\n",
       "      <td>0.9743250149341743</td>\n",
       "      <td>18.987341772151932</td>\n",
       "      <td>0.0</td>\n",
       "      <td>96.84806363488552</td>\n",
       "      <td>4.330306e+09</td>\n",
       "    </tr>\n",
       "    <tr>\n",
       "      <th>1</th>\n",
       "      <td>105.52465290770701</td>\n",
       "      <td>5991.0347057502395</td>\n",
       "      <td>0.5478831808574116</td>\n",
       "      <td>37.241356865919556</td>\n",
       "      <td>61.97314583193669</td>\n",
       "      <td>33.65264368109973</td>\n",
       "      <td>57.692307692307665</td>\n",
       "      <td>0.17499999999999982</td>\n",
       "      <td>86.80574740957927</td>\n",
       "      <td>0.9751918031250787</td>\n",
       "      <td>19.8675496688742</td>\n",
       "      <td>36000.00000010506</td>\n",
       "      <td>106.27808542116456</td>\n",
       "      <td>4.330342e+09</td>\n",
       "    </tr>\n",
       "    <tr>\n",
       "      <th>2</th>\n",
       "      <td>84.36699397454268</td>\n",
       "      <td>6694.587101732265</td>\n",
       "      <td>33.69526632077312</td>\n",
       "      <td>37.2357544064954</td>\n",
       "      <td>53.41811093153724</td>\n",
       "      <td>33.74853749618413</td>\n",
       "      <td>45.454545454545425</td>\n",
       "      <td>0.0</td>\n",
       "      <td>83.98776512021337</td>\n",
       "      <td>0.9752820633730359</td>\n",
       "      <td>19.8675496688742</td>\n",
       "      <td>71999.99999669408</td>\n",
       "      <td>109.49886703935084</td>\n",
       "      <td>4.330378e+09</td>\n",
       "    </tr>\n",
       "    <tr>\n",
       "      <th>3</th>\n",
       "      <td>109.77634261942715</td>\n",
       "      <td>6760.425681804711</td>\n",
       "      <td>33.92038290755432</td>\n",
       "      <td>37.23511879108406</td>\n",
       "      <td>61.15184847536049</td>\n",
       "      <td>33.62379191839124</td>\n",
       "      <td>48.38709677419352</td>\n",
       "      <td>0.0</td>\n",
       "      <td>90.18419385600127</td>\n",
       "      <td>0.9753157252947247</td>\n",
       "      <td>20.00000000000003</td>\n",
       "      <td>75599.9999974275</td>\n",
       "      <td>116.16687138323397</td>\n",
       "      <td>4.330382e+09</td>\n",
       "    </tr>\n",
       "    <tr>\n",
       "      <th>4</th>\n",
       "      <td>100.40912774827144</td>\n",
       "      <td>6824.6364429937785</td>\n",
       "      <td>16.011008403359686</td>\n",
       "      <td>37.23468060446555</td>\n",
       "      <td>52.7525051977045</td>\n",
       "      <td>33.744107668745116</td>\n",
       "      <td>41.66666666666664</td>\n",
       "      <td>0.0</td>\n",
       "      <td>82.57820821462263</td>\n",
       "      <td>0.9752721990490723</td>\n",
       "      <td>19.8675496688742</td>\n",
       "      <td>79199.99999816091</td>\n",
       "      <td>109.98894149887161</td>\n",
       "      <td>4.330385e+09</td>\n",
       "    </tr>\n",
       "  </tbody>\n",
       "</table>\n",
       "</div>"
      ],
      "text/plain": [
       "  ArterialPressure (mmHg)    BloodVolume (mL)  \\\n",
       "0       74.66450526855601   4917.978472760195   \n",
       "1      105.52465290770701  5991.0347057502395   \n",
       "2       84.36699397454268   6694.587101732265   \n",
       "3      109.77634261942715   6760.425681804711   \n",
       "4      100.40912774827144  6824.6364429937785   \n",
       "\n",
       "  Carina - CarbonDioxide - PartialPressure (mmHg) CoreTemperature (degC)  \\\n",
       "0                              14.633293884806704      37.03546061197983   \n",
       "1                              0.5478831808574116     37.241356865919556   \n",
       "2                               33.69526632077312       37.2357544064954   \n",
       "3                               33.92038290755432      37.23511879108406   \n",
       "4                              16.011008403359686      37.23468060446555   \n",
       "\n",
       "  DiastolicArterialPressure (mmHg) EndTidalCarbonDioxidePressure (mmHg)  \\\n",
       "0                68.40678107610306                    33.28586302929822   \n",
       "1                61.97314583193669                    33.65264368109973   \n",
       "2                53.41811093153724                    33.74853749618413   \n",
       "3                61.15184847536049                    33.62379191839124   \n",
       "4                 52.7525051977045                   33.744107668745116   \n",
       "\n",
       "    HeartRate (1/min) Lead3ElectricPotential (mV) MeanArterialPressure (mmHg)  \\\n",
       "0   74.99999999999996         0.04999999999999938            83.7739341724525   \n",
       "1  57.692307692307665         0.17499999999999982           86.80574740957927   \n",
       "2  45.454545454545425                         0.0           83.98776512021337   \n",
       "3   48.38709677419352                         0.0           90.18419385600127   \n",
       "4   41.66666666666664                         0.0           82.57820821462263   \n",
       "\n",
       "  OxygenSaturation (None) RespirationRate (1/min)  SimulationTime(s)  \\\n",
       "0      0.9743250149341743      18.987341772151932                0.0   \n",
       "1      0.9751918031250787        19.8675496688742  36000.00000010506   \n",
       "2      0.9752820633730359        19.8675496688742  71999.99999669408   \n",
       "3      0.9753157252947247       20.00000000000003   75599.9999974275   \n",
       "4      0.9752721990490723        19.8675496688742  79199.99999816091   \n",
       "\n",
       "  SystolicArterialPressure (mmHg)          time  \n",
       "0               96.84806363488552  4.330306e+09  \n",
       "1              106.27808542116456  4.330342e+09  \n",
       "2              109.49886703935084  4.330378e+09  \n",
       "3              116.16687138323397  4.330382e+09  \n",
       "4              109.98894149887161  4.330385e+09  "
      ]
     },
     "execution_count": 7,
     "metadata": {},
     "output_type": "execute_result"
    }
   ],
   "source": [
    "simulation_max_sepsis.head()"
   ]
  },
  {
   "cell_type": "code",
   "execution_count": 8,
   "metadata": {},
   "outputs": [],
   "source": [
    "time = simulation_sepsis['time']\n",
    "diaBP_sepsis = simulation_sepsis['DiastolicArterialPressure (mmHg)']\n",
    "diaBP_max_sepsis = simulation_max_sepsis['DiastolicArterialPressure (mmHg)']"
   ]
  },
  {
   "cell_type": "code",
   "execution_count": 9,
   "metadata": {},
   "outputs": [
    {
     "data": {
      "image/png": "[encoded data removed]",
      "text/plain": [
       "<Figure size 432x288 with 1 Axes>"
      ]
     },
     "metadata": {
      "needs_background": "light"
     },
     "output_type": "display_data"
    }
   ],
   "source": [
    "import matplotlib.pyplot as plt\n",
    "plt.plot(time, pd.to_numeric(diaBP_sepsis))\n",
    "plt.plot(time, pd.to_numeric(diaBP_max_sepsis))\n",
    "plt.xlabel('Time(s)')\n",
    "plt.ylabel('mmHg')\n",
    "plt.title('Diastolic Arterial Pressure')\n",
    "plt.legend(['Sepsis', 'Max Sepsis'])\n",
    "plt.show()"
   ]
  },
  {
   "cell_type": "code",
   "execution_count": 10,
   "metadata": {},
   "outputs": [
    {
     "data": {
      "image/png": "[encoded data removed]",
      "text/plain": [
       "<Figure size 432x288 with 1 Axes>"
      ]
     },
     "metadata": {
      "needs_background": "light"
     },
     "output_type": "display_data"
    }
   ],
   "source": [
    "sysBP_sepsis = simulation_sepsis['SystolicArterialPressure (mmHg)']\n",
    "sysBP_max_sepsis = simulation_max_sepsis['SystolicArterialPressure (mmHg)']\n",
    "plt.plot(time, pd.to_numeric(sysBP_sepsis))\n",
    "plt.plot(time, pd.to_numeric(sysBP_max_sepsis))\n",
    "plt.xlabel('Time(s)')\n",
    "plt.ylabel('mmHg')\n",
    "plt.title('Systolic Arterial Pressure')\n",
    "plt.legend(['Sepsis', 'Max Sepsis'])\n",
    "plt.show()"
   ]
  },
  {
   "cell_type": "code",
   "execution_count": 11,
   "metadata": {},
   "outputs": [
    {
     "data": {
      "image/png": "[encoded data removed]",
      "text/plain": [
       "<Figure size 432x288 with 1 Axes>"
      ]
     },
     "metadata": {
      "needs_background": "light"
     },
     "output_type": "display_data"
    }
   ],
   "source": [
    "meanBP_sepsis = simulation_sepsis['MeanArterialPressure (mmHg)']\n",
    "meanBP_max_sepsis = simulation_max_sepsis['MeanArterialPressure (mmHg)']\n",
    "plt.plot(time, pd.to_numeric(meanBP_sepsis))\n",
    "plt.plot(time, pd.to_numeric(meanBP_max_sepsis))\n",
    "plt.xlabel('Time(s)')\n",
    "plt.ylabel('mmHg')\n",
    "plt.title('Mean Arterial Pressure')\n",
    "plt.legend(['Sepsis', 'Max Sepsis'])\n",
    "plt.show()"
   ]
  },
  {
   "cell_type": "code",
   "execution_count": 12,
   "metadata": {},
   "outputs": [
    {
     "data": {
      "image/png": "[encoded data removed]",
      "text/plain": [
       "<Figure size 432x288 with 1 Axes>"
      ]
     },
     "metadata": {
      "needs_background": "light"
     },
     "output_type": "display_data"
    }
   ],
   "source": [
    "HR_sepsis = simulation_sepsis['HeartRate (1/min)']\n",
    "HR_max_sepsis = simulation_max_sepsis['HeartRate (1/min)']\n",
    "plt.plot(time, pd.to_numeric(HR_sepsis))\n",
    "plt.plot(time, pd.to_numeric(HR_max_sepsis))\n",
    "plt.xlabel('Time(s)')\n",
    "plt.ylabel('bpm')\n",
    "plt.title('Heart Rate')\n",
    "plt.legend(['Sepsis', 'Max Sepsis'])\n",
    "plt.show()"
   ]
  },
  {
   "cell_type": "code",
   "execution_count": 13,
   "metadata": {},
   "outputs": [
    {
     "data": {
      "image/png": "[encoded data removed]",
      "text/plain": [
       "<Figure size 432x288 with 1 Axes>"
      ]
     },
     "metadata": {
      "needs_background": "light"
     },
     "output_type": "display_data"
    }
   ],
   "source": [
    "RR_sepsis = simulation_sepsis['RespirationRate (1/min)']\n",
    "RR_max_sepsis = simulation_max_sepsis['RespirationRate (1/min)']\n",
    "plt.plot(time, pd.to_numeric(RR_sepsis))\n",
    "plt.plot(time, pd.to_numeric(RR_max_sepsis))\n",
    "plt.xlabel('Time(s)')\n",
    "plt.ylabel('(1/min)')\n",
    "plt.title('Respiration Rate')\n",
    "plt.legend(['Sepsis', 'Max Sepsis'])\n",
    "plt.show()"
   ]
  },
  {
   "cell_type": "code",
   "execution_count": 14,
   "metadata": {},
   "outputs": [
    {
     "data": {
      "image/png": "[encoded data removed]",
      "text/plain": [
       "<Figure size 432x288 with 1 Axes>"
      ]
     },
     "metadata": {
      "needs_background": "light"
     },
     "output_type": "display_data"
    }
   ],
   "source": [
    "temp_sepsis = simulation_sepsis['CoreTemperature (degC)']\n",
    "temp_max_sepsis = simulation_max_sepsis['CoreTemperature (degC)']\n",
    "plt.plot(time, pd.to_numeric(temp_sepsis))\n",
    "plt.plot(time, pd.to_numeric(temp_max_sepsis))\n",
    "plt.xlabel('Time(s)')\n",
    "plt.ylabel('C')\n",
    "plt.title('Core Temperature')\n",
    "plt.legend(['Sepsis', 'Max Sepsis'])\n",
    "plt.show()"
   ]
  }
 ],
 "metadata": {
  "kernelspec": {
   "display_name": "Python 3",
   "language": "python",
   "name": "python3"
  },
  "language_info": {
   "codemirror_mode": {
    "name": "ipython",
    "version": 3
   },
   "file_extension": ".py",
   "mimetype": "text/x-python",
   "name": "python",
   "nbconvert_exporter": "python",
   "pygments_lexer": "ipython3",
   "version": "3.8.7"
  }
 },
 "nbformat": 4,
 "nbformat_minor": 4
}
