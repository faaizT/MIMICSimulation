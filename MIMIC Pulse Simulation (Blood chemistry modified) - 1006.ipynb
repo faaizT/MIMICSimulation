{
 "cells": [
  {
   "cell_type": "markdown",
   "metadata": {},
   "source": [
    "# Simulating MIMIC Patient\n",
    "We used Pulse to simulate patients in MIMIC, initializing them using their readings in MIMIC, and administering IV fluids and vasopressors at each time step as done in MIMIC. (See [MIMICSimulator.py](https://gitlab.kitware.com/faaizT/engine/-/blob/local-changes/src/python/pulse/rlengine/SimulationEngine.py) for more details about the simulations.)  \n",
    "This note compares a patient in MIMIC with their simulated counterpart. The simulated patients have had their blood chemistry modified."
   ]
  },
  {
   "cell_type": "code",
   "execution_count": 1,
   "metadata": {},
   "outputs": [],
   "source": [
    "import pandas as pd\n",
    "icustayid = 1006.0\n",
    "export_dir = \"/data/localhost/taufiq/export-dir/\"\n",
    "mimic_csv = \"/data/localhost/taufiq/Pulse/engine/src/python/pulse/rlengine/resources/MIMICtable-1hourly_entire-stay.csv\""
   ]
  },
  {
   "cell_type": "code",
   "execution_count": 2,
   "metadata": {},
   "outputs": [],
   "source": [
    "simulation = pd.read_csv(export_dir + \"simulation_\" + str(icustayid) + \"_final_1613470157.csv\")\n",
    "simulation = simulation.replace(r\"[\\[|\\]]\", \"\", regex=True)"
   ]
  },
  {
   "cell_type": "code",
   "execution_count": 3,
   "metadata": {
    "scrolled": true
   },
   "outputs": [
    {
     "data": {
      "text/html": [
       "<div>\n",
       "<style scoped>\n",
       "    .dataframe tbody tr th:only-of-type {\n",
       "        vertical-align: middle;\n",
       "    }\n",
       "\n",
       "    .dataframe tbody tr th {\n",
       "        vertical-align: top;\n",
       "    }\n",
       "\n",
       "    .dataframe thead th {\n",
       "        text-align: right;\n",
       "    }\n",
       "</style>\n",
       "<table border=\"1\" class=\"dataframe\">\n",
       "  <thead>\n",
       "    <tr style=\"text-align: right;\">\n",
       "      <th></th>\n",
       "      <th>ArterialPressure (mmHg)</th>\n",
       "      <th>BloodVolume (mL)</th>\n",
       "      <th>Carina - CarbonDioxide - PartialPressure (mmHg)</th>\n",
       "      <th>CoreTemperature (degC)</th>\n",
       "      <th>DiastolicArterialPressure (mmHg)</th>\n",
       "      <th>EndTidalCarbonDioxidePressure (mmHg)</th>\n",
       "      <th>HeartRate (1/min)</th>\n",
       "      <th>Lead3ElectricPotential (mV)</th>\n",
       "      <th>MeanArterialPressure (mmHg)</th>\n",
       "      <th>OxygenSaturation (None)</th>\n",
       "      <th>RespirationRate (1/min)</th>\n",
       "      <th>SimulationTime(s)</th>\n",
       "      <th>SystolicArterialPressure (mmHg)</th>\n",
       "      <th>time</th>\n",
       "    </tr>\n",
       "  </thead>\n",
       "  <tbody>\n",
       "    <tr>\n",
       "      <th>0</th>\n",
       "      <td>74.66450526855601</td>\n",
       "      <td>4917.978472760195</td>\n",
       "      <td>14.633293884806704</td>\n",
       "      <td>37.03546061197983</td>\n",
       "      <td>68.40678107610306</td>\n",
       "      <td>33.28586302929822</td>\n",
       "      <td>74.99999999999996</td>\n",
       "      <td>0.04999999999999938</td>\n",
       "      <td>83.7739341724525</td>\n",
       "      <td>0.9743250149341743</td>\n",
       "      <td>18.987341772151932</td>\n",
       "      <td>0.0</td>\n",
       "      <td>96.84806363488552</td>\n",
       "      <td>4.330306e+09</td>\n",
       "    </tr>\n",
       "    <tr>\n",
       "      <th>1</th>\n",
       "      <td>92.65740533508557</td>\n",
       "      <td>5991.013758919735</td>\n",
       "      <td>0.42478348466164134</td>\n",
       "      <td>37.24133620100076</td>\n",
       "      <td>60.30668080340104</td>\n",
       "      <td>33.679435495666176</td>\n",
       "      <td>53.57142857142855</td>\n",
       "      <td>-0.05</td>\n",
       "      <td>84.33764088423402</td>\n",
       "      <td>0.9752093343377034</td>\n",
       "      <td>20.00000000000003</td>\n",
       "      <td>36000.00000010506</td>\n",
       "      <td>104.5851112918214</td>\n",
       "      <td>4.330342e+09</td>\n",
       "    </tr>\n",
       "    <tr>\n",
       "      <th>2</th>\n",
       "      <td>109.13698945064938</td>\n",
       "      <td>6695.1821759154745</td>\n",
       "      <td>34.174282740559775</td>\n",
       "      <td>37.23574531695806</td>\n",
       "      <td>53.418806578260586</td>\n",
       "      <td>33.72284222222068</td>\n",
       "      <td>45.454545454545425</td>\n",
       "      <td>0.0</td>\n",
       "      <td>83.99542889365635</td>\n",
       "      <td>0.9752874894323437</td>\n",
       "      <td>20.00000000000003</td>\n",
       "      <td>71999.99999669408</td>\n",
       "      <td>109.52270960508716</td>\n",
       "      <td>4.330378e+09</td>\n",
       "    </tr>\n",
       "    <tr>\n",
       "      <th>3</th>\n",
       "      <td>80.14522915341699</td>\n",
       "      <td>6761.015274502218</td>\n",
       "      <td>34.23314042490551</td>\n",
       "      <td>37.235069391265256</td>\n",
       "      <td>54.05924674837391</td>\n",
       "      <td>33.65588366725109</td>\n",
       "      <td>42.85714285714283</td>\n",
       "      <td>0.0</td>\n",
       "      <td>84.32314408344922</td>\n",
       "      <td>0.9753119947236963</td>\n",
       "      <td>20.00000000000003</td>\n",
       "      <td>75599.9999974275</td>\n",
       "      <td>111.85278843065592</td>\n",
       "      <td>4.330382e+09</td>\n",
       "    </tr>\n",
       "    <tr>\n",
       "      <th>4</th>\n",
       "      <td>65.65010212175547</td>\n",
       "      <td>6824.97250821253</td>\n",
       "      <td>33.043092373538066</td>\n",
       "      <td>37.23468158423293</td>\n",
       "      <td>59.11724697620433</td>\n",
       "      <td>33.65982755226362</td>\n",
       "      <td>46.87499999999997</td>\n",
       "      <td>0.0</td>\n",
       "      <td>88.87797975407756</td>\n",
       "      <td>0.9752314575969653</td>\n",
       "      <td>20.00000000000003</td>\n",
       "      <td>79199.99999816091</td>\n",
       "      <td>115.34631905865119</td>\n",
       "      <td>4.330385e+09</td>\n",
       "    </tr>\n",
       "  </tbody>\n",
       "</table>\n",
       "</div>"
      ],
      "text/plain": [
       "  ArterialPressure (mmHg)    BloodVolume (mL)  \\\n",
       "0       74.66450526855601   4917.978472760195   \n",
       "1       92.65740533508557   5991.013758919735   \n",
       "2      109.13698945064938  6695.1821759154745   \n",
       "3       80.14522915341699   6761.015274502218   \n",
       "4       65.65010212175547    6824.97250821253   \n",
       "\n",
       "  Carina - CarbonDioxide - PartialPressure (mmHg) CoreTemperature (degC)  \\\n",
       "0                              14.633293884806704      37.03546061197983   \n",
       "1                             0.42478348466164134      37.24133620100076   \n",
       "2                              34.174282740559775      37.23574531695806   \n",
       "3                               34.23314042490551     37.235069391265256   \n",
       "4                              33.043092373538066      37.23468158423293   \n",
       "\n",
       "  DiastolicArterialPressure (mmHg) EndTidalCarbonDioxidePressure (mmHg)  \\\n",
       "0                68.40678107610306                    33.28586302929822   \n",
       "1                60.30668080340104                   33.679435495666176   \n",
       "2               53.418806578260586                    33.72284222222068   \n",
       "3                54.05924674837391                    33.65588366725109   \n",
       "4                59.11724697620433                    33.65982755226362   \n",
       "\n",
       "    HeartRate (1/min) Lead3ElectricPotential (mV) MeanArterialPressure (mmHg)  \\\n",
       "0   74.99999999999996         0.04999999999999938            83.7739341724525   \n",
       "1   53.57142857142855                       -0.05           84.33764088423402   \n",
       "2  45.454545454545425                         0.0           83.99542889365635   \n",
       "3   42.85714285714283                         0.0           84.32314408344922   \n",
       "4   46.87499999999997                         0.0           88.87797975407756   \n",
       "\n",
       "  OxygenSaturation (None) RespirationRate (1/min)  SimulationTime(s)  \\\n",
       "0      0.9743250149341743      18.987341772151932                0.0   \n",
       "1      0.9752093343377034       20.00000000000003  36000.00000010506   \n",
       "2      0.9752874894323437       20.00000000000003  71999.99999669408   \n",
       "3      0.9753119947236963       20.00000000000003   75599.9999974275   \n",
       "4      0.9752314575969653       20.00000000000003  79199.99999816091   \n",
       "\n",
       "  SystolicArterialPressure (mmHg)          time  \n",
       "0               96.84806363488552  4.330306e+09  \n",
       "1               104.5851112918214  4.330342e+09  \n",
       "2              109.52270960508716  4.330378e+09  \n",
       "3              111.85278843065592  4.330382e+09  \n",
       "4              115.34631905865119  4.330385e+09  "
      ]
     },
     "execution_count": 3,
     "metadata": {},
     "output_type": "execute_result"
    }
   ],
   "source": [
    "simulation.head()"
   ]
  },
  {
   "cell_type": "code",
   "execution_count": 4,
   "metadata": {},
   "outputs": [
    {
     "data": {
      "text/plain": [
       "61"
      ]
     },
     "execution_count": 4,
     "metadata": {},
     "output_type": "execute_result"
    }
   ],
   "source": [
    "len(simulation)"
   ]
  },
  {
   "cell_type": "code",
   "execution_count": 5,
   "metadata": {},
   "outputs": [
    {
     "data": {
      "text/html": [
       "<div>\n",
       "<style scoped>\n",
       "    .dataframe tbody tr th:only-of-type {\n",
       "        vertical-align: middle;\n",
       "    }\n",
       "\n",
       "    .dataframe tbody tr th {\n",
       "        vertical-align: top;\n",
       "    }\n",
       "\n",
       "    .dataframe thead th {\n",
       "        text-align: right;\n",
       "    }\n",
       "</style>\n",
       "<table border=\"1\" class=\"dataframe\">\n",
       "  <thead>\n",
       "    <tr style=\"text-align: right;\">\n",
       "      <th></th>\n",
       "      <th>bloc</th>\n",
       "      <th>icustay_id</th>\n",
       "      <th>charttime</th>\n",
       "      <th>gender</th>\n",
       "      <th>age</th>\n",
       "      <th>elixhauser</th>\n",
       "      <th>re_admission</th>\n",
       "      <th>died_in_hosp</th>\n",
       "      <th>died_within_48h_of_out_time</th>\n",
       "      <th>mortality_90d</th>\n",
       "      <th>...</th>\n",
       "      <th>Shock_Index</th>\n",
       "      <th>PaO2_FiO2</th>\n",
       "      <th>median_dose_vaso</th>\n",
       "      <th>max_dose_vaso</th>\n",
       "      <th>input_total</th>\n",
       "      <th>input_1hourly</th>\n",
       "      <th>output_total</th>\n",
       "      <th>output_1hourly</th>\n",
       "      <th>cumulated_balance</th>\n",
       "      <th>sepsis</th>\n",
       "    </tr>\n",
       "  </thead>\n",
       "  <tbody>\n",
       "    <tr>\n",
       "      <th>0</th>\n",
       "      <td>1.0</td>\n",
       "      <td>1006.0</td>\n",
       "      <td>4.330306e+09</td>\n",
       "      <td>0.0</td>\n",
       "      <td>25154.170995</td>\n",
       "      <td>3.0</td>\n",
       "      <td>0.0</td>\n",
       "      <td>1.0</td>\n",
       "      <td>1.0</td>\n",
       "      <td>1.0</td>\n",
       "      <td>...</td>\n",
       "      <td>0.750000</td>\n",
       "      <td>206.000000</td>\n",
       "      <td>0.0</td>\n",
       "      <td>0.0</td>\n",
       "      <td>0.0</td>\n",
       "      <td>0.0</td>\n",
       "      <td>8166.0</td>\n",
       "      <td>4083.0</td>\n",
       "      <td>-8166.0</td>\n",
       "      <td>1.0</td>\n",
       "    </tr>\n",
       "    <tr>\n",
       "      <th>1</th>\n",
       "      <td>11.0</td>\n",
       "      <td>1006.0</td>\n",
       "      <td>4.330342e+09</td>\n",
       "      <td>0.0</td>\n",
       "      <td>25154.170995</td>\n",
       "      <td>3.0</td>\n",
       "      <td>0.0</td>\n",
       "      <td>1.0</td>\n",
       "      <td>1.0</td>\n",
       "      <td>1.0</td>\n",
       "      <td>...</td>\n",
       "      <td>0.750000</td>\n",
       "      <td>206.000000</td>\n",
       "      <td>0.0</td>\n",
       "      <td>0.0</td>\n",
       "      <td>0.0</td>\n",
       "      <td>0.0</td>\n",
       "      <td>12249.0</td>\n",
       "      <td>4083.0</td>\n",
       "      <td>-12249.0</td>\n",
       "      <td>1.0</td>\n",
       "    </tr>\n",
       "    <tr>\n",
       "      <th>2</th>\n",
       "      <td>21.0</td>\n",
       "      <td>1006.0</td>\n",
       "      <td>4.330378e+09</td>\n",
       "      <td>0.0</td>\n",
       "      <td>25154.170995</td>\n",
       "      <td>3.0</td>\n",
       "      <td>0.0</td>\n",
       "      <td>1.0</td>\n",
       "      <td>1.0</td>\n",
       "      <td>1.0</td>\n",
       "      <td>...</td>\n",
       "      <td>0.831461</td>\n",
       "      <td>240.000000</td>\n",
       "      <td>0.0</td>\n",
       "      <td>0.0</td>\n",
       "      <td>0.0</td>\n",
       "      <td>0.0</td>\n",
       "      <td>16332.0</td>\n",
       "      <td>4083.0</td>\n",
       "      <td>-16332.0</td>\n",
       "      <td>1.0</td>\n",
       "    </tr>\n",
       "    <tr>\n",
       "      <th>3</th>\n",
       "      <td>22.0</td>\n",
       "      <td>1006.0</td>\n",
       "      <td>4.330382e+09</td>\n",
       "      <td>0.0</td>\n",
       "      <td>25154.170995</td>\n",
       "      <td>3.0</td>\n",
       "      <td>0.0</td>\n",
       "      <td>1.0</td>\n",
       "      <td>1.0</td>\n",
       "      <td>1.0</td>\n",
       "      <td>...</td>\n",
       "      <td>0.955357</td>\n",
       "      <td>96.000000</td>\n",
       "      <td>0.0</td>\n",
       "      <td>0.0</td>\n",
       "      <td>0.0</td>\n",
       "      <td>0.0</td>\n",
       "      <td>20415.0</td>\n",
       "      <td>4083.0</td>\n",
       "      <td>-20415.0</td>\n",
       "      <td>1.0</td>\n",
       "    </tr>\n",
       "    <tr>\n",
       "      <th>4</th>\n",
       "      <td>23.0</td>\n",
       "      <td>1006.0</td>\n",
       "      <td>4.330385e+09</td>\n",
       "      <td>0.0</td>\n",
       "      <td>25154.170995</td>\n",
       "      <td>3.0</td>\n",
       "      <td>0.0</td>\n",
       "      <td>1.0</td>\n",
       "      <td>1.0</td>\n",
       "      <td>1.0</td>\n",
       "      <td>...</td>\n",
       "      <td>0.812749</td>\n",
       "      <td>109.714286</td>\n",
       "      <td>0.0</td>\n",
       "      <td>0.0</td>\n",
       "      <td>175.0</td>\n",
       "      <td>175.0</td>\n",
       "      <td>24298.0</td>\n",
       "      <td>3883.0</td>\n",
       "      <td>-24123.0</td>\n",
       "      <td>1.0</td>\n",
       "    </tr>\n",
       "  </tbody>\n",
       "</table>\n",
       "<p>5 rows × 60 columns</p>\n",
       "</div>"
      ],
      "text/plain": [
       "   bloc  icustay_id     charttime  gender           age  elixhauser  \\\n",
       "0   1.0      1006.0  4.330306e+09     0.0  25154.170995         3.0   \n",
       "1  11.0      1006.0  4.330342e+09     0.0  25154.170995         3.0   \n",
       "2  21.0      1006.0  4.330378e+09     0.0  25154.170995         3.0   \n",
       "3  22.0      1006.0  4.330382e+09     0.0  25154.170995         3.0   \n",
       "4  23.0      1006.0  4.330385e+09     0.0  25154.170995         3.0   \n",
       "\n",
       "   re_admission  died_in_hosp  died_within_48h_of_out_time  mortality_90d  \\\n",
       "0           0.0           1.0                          1.0            1.0   \n",
       "1           0.0           1.0                          1.0            1.0   \n",
       "2           0.0           1.0                          1.0            1.0   \n",
       "3           0.0           1.0                          1.0            1.0   \n",
       "4           0.0           1.0                          1.0            1.0   \n",
       "\n",
       "   ...  Shock_Index   PaO2_FiO2  median_dose_vaso  max_dose_vaso  input_total  \\\n",
       "0  ...     0.750000  206.000000               0.0            0.0          0.0   \n",
       "1  ...     0.750000  206.000000               0.0            0.0          0.0   \n",
       "2  ...     0.831461  240.000000               0.0            0.0          0.0   \n",
       "3  ...     0.955357   96.000000               0.0            0.0          0.0   \n",
       "4  ...     0.812749  109.714286               0.0            0.0        175.0   \n",
       "\n",
       "   input_1hourly  output_total  output_1hourly  cumulated_balance  sepsis  \n",
       "0            0.0        8166.0          4083.0            -8166.0     1.0  \n",
       "1            0.0       12249.0          4083.0           -12249.0     1.0  \n",
       "2            0.0       16332.0          4083.0           -16332.0     1.0  \n",
       "3            0.0       20415.0          4083.0           -20415.0     1.0  \n",
       "4          175.0       24298.0          3883.0           -24123.0     1.0  \n",
       "\n",
       "[5 rows x 60 columns]"
      ]
     },
     "execution_count": 5,
     "metadata": {},
     "output_type": "execute_result"
    }
   ],
   "source": [
    "MIMICtable = pd.read_csv(mimic_csv)\n",
    "MIMICtable.head()\n"
   ]
  },
  {
   "cell_type": "code",
   "execution_count": 6,
   "metadata": {},
   "outputs": [
    {
     "data": {
      "text/plain": [
       "61"
      ]
     },
     "execution_count": 6,
     "metadata": {},
     "output_type": "execute_result"
    }
   ],
   "source": [
    "MIMICtable_filtered = MIMICtable[MIMICtable['icustay_id']==icustayid]\n",
    "len(MIMICtable_filtered)"
   ]
  },
  {
   "cell_type": "code",
   "execution_count": 7,
   "metadata": {},
   "outputs": [
    {
     "data": {
      "text/html": [
       "<div>\n",
       "<style scoped>\n",
       "    .dataframe tbody tr th:only-of-type {\n",
       "        vertical-align: middle;\n",
       "    }\n",
       "\n",
       "    .dataframe tbody tr th {\n",
       "        vertical-align: top;\n",
       "    }\n",
       "\n",
       "    .dataframe thead th {\n",
       "        text-align: right;\n",
       "    }\n",
       "</style>\n",
       "<table border=\"1\" class=\"dataframe\">\n",
       "  <thead>\n",
       "    <tr style=\"text-align: right;\">\n",
       "      <th></th>\n",
       "      <th>bloc</th>\n",
       "      <th>icustay_id</th>\n",
       "      <th>charttime</th>\n",
       "      <th>gender</th>\n",
       "      <th>age</th>\n",
       "      <th>elixhauser</th>\n",
       "      <th>re_admission</th>\n",
       "      <th>died_in_hosp</th>\n",
       "      <th>died_within_48h_of_out_time</th>\n",
       "      <th>mortality_90d</th>\n",
       "      <th>...</th>\n",
       "      <th>Shock_Index</th>\n",
       "      <th>PaO2_FiO2</th>\n",
       "      <th>median_dose_vaso</th>\n",
       "      <th>max_dose_vaso</th>\n",
       "      <th>input_total</th>\n",
       "      <th>input_1hourly</th>\n",
       "      <th>output_total</th>\n",
       "      <th>output_1hourly</th>\n",
       "      <th>cumulated_balance</th>\n",
       "      <th>sepsis</th>\n",
       "    </tr>\n",
       "  </thead>\n",
       "  <tbody>\n",
       "    <tr>\n",
       "      <th>0</th>\n",
       "      <td>1.0</td>\n",
       "      <td>1006.0</td>\n",
       "      <td>4.330306e+09</td>\n",
       "      <td>0.0</td>\n",
       "      <td>25154.170995</td>\n",
       "      <td>3.0</td>\n",
       "      <td>0.0</td>\n",
       "      <td>1.0</td>\n",
       "      <td>1.0</td>\n",
       "      <td>1.0</td>\n",
       "      <td>...</td>\n",
       "      <td>0.750000</td>\n",
       "      <td>206.000000</td>\n",
       "      <td>0.0</td>\n",
       "      <td>0.0</td>\n",
       "      <td>0.0</td>\n",
       "      <td>0.0</td>\n",
       "      <td>8166.0</td>\n",
       "      <td>4083.0</td>\n",
       "      <td>-8166.0</td>\n",
       "      <td>1.0</td>\n",
       "    </tr>\n",
       "    <tr>\n",
       "      <th>1</th>\n",
       "      <td>11.0</td>\n",
       "      <td>1006.0</td>\n",
       "      <td>4.330342e+09</td>\n",
       "      <td>0.0</td>\n",
       "      <td>25154.170995</td>\n",
       "      <td>3.0</td>\n",
       "      <td>0.0</td>\n",
       "      <td>1.0</td>\n",
       "      <td>1.0</td>\n",
       "      <td>1.0</td>\n",
       "      <td>...</td>\n",
       "      <td>0.750000</td>\n",
       "      <td>206.000000</td>\n",
       "      <td>0.0</td>\n",
       "      <td>0.0</td>\n",
       "      <td>0.0</td>\n",
       "      <td>0.0</td>\n",
       "      <td>12249.0</td>\n",
       "      <td>4083.0</td>\n",
       "      <td>-12249.0</td>\n",
       "      <td>1.0</td>\n",
       "    </tr>\n",
       "    <tr>\n",
       "      <th>2</th>\n",
       "      <td>21.0</td>\n",
       "      <td>1006.0</td>\n",
       "      <td>4.330378e+09</td>\n",
       "      <td>0.0</td>\n",
       "      <td>25154.170995</td>\n",
       "      <td>3.0</td>\n",
       "      <td>0.0</td>\n",
       "      <td>1.0</td>\n",
       "      <td>1.0</td>\n",
       "      <td>1.0</td>\n",
       "      <td>...</td>\n",
       "      <td>0.831461</td>\n",
       "      <td>240.000000</td>\n",
       "      <td>0.0</td>\n",
       "      <td>0.0</td>\n",
       "      <td>0.0</td>\n",
       "      <td>0.0</td>\n",
       "      <td>16332.0</td>\n",
       "      <td>4083.0</td>\n",
       "      <td>-16332.0</td>\n",
       "      <td>1.0</td>\n",
       "    </tr>\n",
       "    <tr>\n",
       "      <th>3</th>\n",
       "      <td>22.0</td>\n",
       "      <td>1006.0</td>\n",
       "      <td>4.330382e+09</td>\n",
       "      <td>0.0</td>\n",
       "      <td>25154.170995</td>\n",
       "      <td>3.0</td>\n",
       "      <td>0.0</td>\n",
       "      <td>1.0</td>\n",
       "      <td>1.0</td>\n",
       "      <td>1.0</td>\n",
       "      <td>...</td>\n",
       "      <td>0.955357</td>\n",
       "      <td>96.000000</td>\n",
       "      <td>0.0</td>\n",
       "      <td>0.0</td>\n",
       "      <td>0.0</td>\n",
       "      <td>0.0</td>\n",
       "      <td>20415.0</td>\n",
       "      <td>4083.0</td>\n",
       "      <td>-20415.0</td>\n",
       "      <td>1.0</td>\n",
       "    </tr>\n",
       "    <tr>\n",
       "      <th>4</th>\n",
       "      <td>23.0</td>\n",
       "      <td>1006.0</td>\n",
       "      <td>4.330385e+09</td>\n",
       "      <td>0.0</td>\n",
       "      <td>25154.170995</td>\n",
       "      <td>3.0</td>\n",
       "      <td>0.0</td>\n",
       "      <td>1.0</td>\n",
       "      <td>1.0</td>\n",
       "      <td>1.0</td>\n",
       "      <td>...</td>\n",
       "      <td>0.812749</td>\n",
       "      <td>109.714286</td>\n",
       "      <td>0.0</td>\n",
       "      <td>0.0</td>\n",
       "      <td>175.0</td>\n",
       "      <td>175.0</td>\n",
       "      <td>24298.0</td>\n",
       "      <td>3883.0</td>\n",
       "      <td>-24123.0</td>\n",
       "      <td>1.0</td>\n",
       "    </tr>\n",
       "  </tbody>\n",
       "</table>\n",
       "<p>5 rows × 60 columns</p>\n",
       "</div>"
      ],
      "text/plain": [
       "   bloc  icustay_id     charttime  gender           age  elixhauser  \\\n",
       "0   1.0      1006.0  4.330306e+09     0.0  25154.170995         3.0   \n",
       "1  11.0      1006.0  4.330342e+09     0.0  25154.170995         3.0   \n",
       "2  21.0      1006.0  4.330378e+09     0.0  25154.170995         3.0   \n",
       "3  22.0      1006.0  4.330382e+09     0.0  25154.170995         3.0   \n",
       "4  23.0      1006.0  4.330385e+09     0.0  25154.170995         3.0   \n",
       "\n",
       "   re_admission  died_in_hosp  died_within_48h_of_out_time  mortality_90d  \\\n",
       "0           0.0           1.0                          1.0            1.0   \n",
       "1           0.0           1.0                          1.0            1.0   \n",
       "2           0.0           1.0                          1.0            1.0   \n",
       "3           0.0           1.0                          1.0            1.0   \n",
       "4           0.0           1.0                          1.0            1.0   \n",
       "\n",
       "   ...  Shock_Index   PaO2_FiO2  median_dose_vaso  max_dose_vaso  input_total  \\\n",
       "0  ...     0.750000  206.000000               0.0            0.0          0.0   \n",
       "1  ...     0.750000  206.000000               0.0            0.0          0.0   \n",
       "2  ...     0.831461  240.000000               0.0            0.0          0.0   \n",
       "3  ...     0.955357   96.000000               0.0            0.0          0.0   \n",
       "4  ...     0.812749  109.714286               0.0            0.0        175.0   \n",
       "\n",
       "   input_1hourly  output_total  output_1hourly  cumulated_balance  sepsis  \n",
       "0            0.0        8166.0          4083.0            -8166.0     1.0  \n",
       "1            0.0       12249.0          4083.0           -12249.0     1.0  \n",
       "2            0.0       16332.0          4083.0           -16332.0     1.0  \n",
       "3            0.0       20415.0          4083.0           -20415.0     1.0  \n",
       "4          175.0       24298.0          3883.0           -24123.0     1.0  \n",
       "\n",
       "[5 rows x 60 columns]"
      ]
     },
     "execution_count": 7,
     "metadata": {},
     "output_type": "execute_result"
    }
   ],
   "source": [
    "MIMICtable_filtered.head()"
   ]
  },
  {
   "cell_type": "code",
   "execution_count": 8,
   "metadata": {},
   "outputs": [],
   "source": [
    "time = MIMICtable_filtered['charttime']\n",
    "diaBP_pulse = simulation['DiastolicArterialPressure (mmHg)']\n",
    "diaBP_mimic = MIMICtable_filtered['DiaBP']"
   ]
  },
  {
   "cell_type": "code",
   "execution_count": 9,
   "metadata": {},
   "outputs": [
    {
     "data": {
      "image/png": "[encoded data removed]",
      "text/plain": [
       "<Figure size 432x288 with 1 Axes>"
      ]
     },
     "metadata": {
      "needs_background": "light"
     },
     "output_type": "display_data"
    }
   ],
   "source": [
    "import matplotlib.pyplot as plt\n",
    "plt.plot(time, pd.to_numeric(diaBP_pulse))\n",
    "plt.plot(time, diaBP_mimic)\n",
    "plt.xlabel('Time(s)')\n",
    "plt.ylabel('mmHg')\n",
    "plt.title('Diastolic Arterial Pressure')\n",
    "plt.legend(['Pulse', 'MIMIC'])\n",
    "plt.show()"
   ]
  },
  {
   "cell_type": "code",
   "execution_count": 10,
   "metadata": {},
   "outputs": [
    {
     "data": {
      "image/png": "[encoded data removed]",
      "text/plain": [
       "<Figure size 432x288 with 1 Axes>"
      ]
     },
     "metadata": {
      "needs_background": "light"
     },
     "output_type": "display_data"
    }
   ],
   "source": [
    "sysBP_pulse = simulation['SystolicArterialPressure (mmHg)']\n",
    "sysBP_mimic = MIMICtable_filtered['SysBP']\n",
    "plt.plot(time, pd.to_numeric(sysBP_pulse))\n",
    "plt.plot(time, sysBP_mimic)\n",
    "plt.xlabel('Time(s)')\n",
    "plt.ylabel('mmHg')\n",
    "plt.title('Systolic Arterial Pressure')\n",
    "plt.legend(['Pulse', 'MIMIC'])\n",
    "plt.show()"
   ]
  },
  {
   "cell_type": "code",
   "execution_count": 11,
   "metadata": {},
   "outputs": [
    {
     "data": {
      "image/png": "[encoded data removed]",
      "text/plain": [
       "<Figure size 432x288 with 1 Axes>"
      ]
     },
     "metadata": {
      "needs_background": "light"
     },
     "output_type": "display_data"
    }
   ],
   "source": [
    "meanBP_pulse = simulation['MeanArterialPressure (mmHg)']\n",
    "meanBP_mimic = MIMICtable_filtered['MeanBP']\n",
    "plt.plot(time, pd.to_numeric(meanBP_pulse))\n",
    "plt.plot(time, meanBP_mimic)\n",
    "plt.xlabel('Time(s)')\n",
    "plt.ylabel('mmHg')\n",
    "plt.title('Mean Arterial Pressure')\n",
    "plt.legend(['Pulse', 'MIMIC'])\n",
    "plt.show()"
   ]
  },
  {
   "cell_type": "code",
   "execution_count": 12,
   "metadata": {},
   "outputs": [
    {
     "data": {
      "image/png": "[encoded data removed]",
      "text/plain": [
       "<Figure size 432x288 with 1 Axes>"
      ]
     },
     "metadata": {
      "needs_background": "light"
     },
     "output_type": "display_data"
    }
   ],
   "source": [
    "HR_pulse = simulation['HeartRate (1/min)']\n",
    "HR_mimic = MIMICtable_filtered['HR']\n",
    "plt.plot(time, pd.to_numeric(HR_pulse))\n",
    "plt.plot(time, HR_mimic)\n",
    "plt.xlabel('Time(s)')\n",
    "plt.ylabel('bpm')\n",
    "plt.title('Heart Rate')\n",
    "plt.legend(['Pulse', 'MIMIC'])\n",
    "plt.show()"
   ]
  },
  {
   "cell_type": "code",
   "execution_count": 13,
   "metadata": {},
   "outputs": [
    {
     "data": {
      "image/png": "[encoded data removed]",
      "text/plain": [
       "<Figure size 432x288 with 1 Axes>"
      ]
     },
     "metadata": {
      "needs_background": "light"
     },
     "output_type": "display_data"
    }
   ],
   "source": [
    "RR_pulse = simulation['RespirationRate (1/min)']\n",
    "RR_mimic = MIMICtable_filtered['RR']\n",
    "plt.plot(time, pd.to_numeric(RR_pulse))\n",
    "plt.plot(time, RR_mimic)\n",
    "plt.xlabel('Time(s)')\n",
    "plt.ylabel('(1/min)')\n",
    "plt.title('Respiration Rate')\n",
    "plt.legend(['Pulse', 'MIMIC'])\n",
    "plt.show()"
   ]
  },
  {
   "cell_type": "code",
   "execution_count": 14,
   "metadata": {},
   "outputs": [
    {
     "data": {
      "image/png": "[encoded data removed]",
      "text/plain": [
       "<Figure size 432x288 with 1 Axes>"
      ]
     },
     "metadata": {
      "needs_background": "light"
     },
     "output_type": "display_data"
    }
   ],
   "source": [
    "temp_pulse = simulation['CoreTemperature (degC)']\n",
    "temp_mimic = MIMICtable_filtered['Temp_C']\n",
    "plt.plot(time, pd.to_numeric(temp_pulse))\n",
    "plt.plot(time, temp_mimic)\n",
    "plt.xlabel('Time(s)')\n",
    "plt.ylabel('C')\n",
    "plt.title('Core Temperature')\n",
    "plt.legend(['Pulse', 'MIMIC'])\n",
    "plt.show()"
   ]
  }
 ],
 "metadata": {
  "kernelspec": {
   "display_name": "Python 3",
   "language": "python",
   "name": "python3"
  },
  "language_info": {
   "codemirror_mode": {
    "name": "ipython",
    "version": 3
   },
   "file_extension": ".py",
   "mimetype": "text/x-python",
   "name": "python",
   "nbconvert_exporter": "python",
   "pygments_lexer": "ipython3",
   "version": "3.8.7"
  }
 },
 "nbformat": 4,
 "nbformat_minor": 4
}
