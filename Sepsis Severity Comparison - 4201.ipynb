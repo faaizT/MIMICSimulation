{
 "cells": [
  {
   "cell_type": "markdown",
   "metadata": {},
   "source": [
    "# Simulating MIMIC Patient\n",
    "We used Pulse to simulate patients in MIMIC, initializing them using their readings in MIMIC, and administering IV fluids and vasopressors at each time step as done in MIMIC. (See [MIMICSimulator.py](https://gitlab.kitware.com/faaizT/engine/-/blob/local-changes/src/python/pulse/rlengine/SimulationEngine.py) for more details about the simulations.)  \n",
    "This note compares a patient simulated in Pulse with different sepsis severities.  \n",
    "Old severity: 0.0416667  \n",
    "New severity: 0.291667"
   ]
  },
  {
   "cell_type": "code",
   "execution_count": 1,
   "metadata": {},
   "outputs": [],
   "source": [
    "import pandas as pd\n",
    "icustayid = 4201.0\n",
    "export_dir = \"/data/localhost/taufiq/export-dir/\"\n",
    "mimic_csv = \"/data/localhost/taufiq/Pulse/engine/src/python/pulse/rlengine/resources/MIMICtable-1hourly_entire-stay.csv\""
   ]
  },
  {
   "cell_type": "code",
   "execution_count": 2,
   "metadata": {},
   "outputs": [],
   "source": [
    "simulation_sepsis = pd.read_csv(export_dir + \"simulation_\" + str(icustayid) + \"_final_1613279098.csv\")\n",
    "simulation_sepsis = simulation_sepsis.replace(r\"[\\[|\\]]\", \"\", regex=True)"
   ]
  },
  {
   "cell_type": "code",
   "execution_count": 3,
   "metadata": {
    "scrolled": true
   },
   "outputs": [
    {
     "data": {
      "text/html": [
       "<div>\n",
       "<style scoped>\n",
       "    .dataframe tbody tr th:only-of-type {\n",
       "        vertical-align: middle;\n",
       "    }\n",
       "\n",
       "    .dataframe tbody tr th {\n",
       "        vertical-align: top;\n",
       "    }\n",
       "\n",
       "    .dataframe thead th {\n",
       "        text-align: right;\n",
       "    }\n",
       "</style>\n",
       "<table border=\"1\" class=\"dataframe\">\n",
       "  <thead>\n",
       "    <tr style=\"text-align: right;\">\n",
       "      <th></th>\n",
       "      <th>ArterialPressure (mmHg)</th>\n",
       "      <th>BloodVolume (mL)</th>\n",
       "      <th>Carina - CarbonDioxide - PartialPressure (mmHg)</th>\n",
       "      <th>CoreTemperature (degC)</th>\n",
       "      <th>DiastolicArterialPressure (mmHg)</th>\n",
       "      <th>EndTidalCarbonDioxidePressure (mmHg)</th>\n",
       "      <th>HeartRate (1/min)</th>\n",
       "      <th>Lead3ElectricPotential (mV)</th>\n",
       "      <th>MeanArterialPressure (mmHg)</th>\n",
       "      <th>OxygenSaturation (None)</th>\n",
       "      <th>RespirationRate (1/min)</th>\n",
       "      <th>SimulationTime(s)</th>\n",
       "      <th>SystolicArterialPressure (mmHg)</th>\n",
       "      <th>time</th>\n",
       "    </tr>\n",
       "  </thead>\n",
       "  <tbody>\n",
       "    <tr>\n",
       "      <th>0</th>\n",
       "      <td>71.28676243083197</td>\n",
       "      <td>3548.50718478226</td>\n",
       "      <td>0.34554619438818684</td>\n",
       "      <td>36.99430595628451</td>\n",
       "      <td>67.96219981414428</td>\n",
       "      <td>34.634862262460324</td>\n",
       "      <td>88.23529411764703</td>\n",
       "      <td>0.06300000000000017</td>\n",
       "      <td>95.8533437288661</td>\n",
       "      <td>0.977097845497361</td>\n",
       "      <td>15.463917525773207</td>\n",
       "      <td>0.0</td>\n",
       "      <td>121.08104515439965</td>\n",
       "      <td>4.753951e+09</td>\n",
       "    </tr>\n",
       "    <tr>\n",
       "      <th>1</th>\n",
       "      <td>93.99098116631727</td>\n",
       "      <td>4002.2731715780296</td>\n",
       "      <td>34.687956014931224</td>\n",
       "      <td>37.11873707064615</td>\n",
       "      <td>61.364960876693665</td>\n",
       "      <td>34.762404662587</td>\n",
       "      <td>73.17073170731703</td>\n",
       "      <td>0.03249999999999997</td>\n",
       "      <td>97.20052973219747</td>\n",
       "      <td>0.9773571982769681</td>\n",
       "      <td>15.873015873015891</td>\n",
       "      <td>14400.000000221478</td>\n",
       "      <td>129.55738232975366</td>\n",
       "      <td>4.753966e+09</td>\n",
       "    </tr>\n",
       "    <tr>\n",
       "      <th>2</th>\n",
       "      <td>68.87736491086095</td>\n",
       "      <td>4100.520399697919</td>\n",
       "      <td>12.005161476969288</td>\n",
       "      <td>37.1176734733711</td>\n",
       "      <td>59.33913657324511</td>\n",
       "      <td>34.78804928944777</td>\n",
       "      <td>69.76744186046508</td>\n",
       "      <td>0.09550000000000014</td>\n",
       "      <td>96.78533941799114</td>\n",
       "      <td>0.9774654224824183</td>\n",
       "      <td>15.873015873015891</td>\n",
       "      <td>18000.000000300057</td>\n",
       "      <td>130.84788714224672</td>\n",
       "      <td>4.753969e+09</td>\n",
       "    </tr>\n",
       "    <tr>\n",
       "      <th>3</th>\n",
       "      <td>82.4366139796762</td>\n",
       "      <td>4287.611827348773</td>\n",
       "      <td>0.432797692166674</td>\n",
       "      <td>37.11587290350849</td>\n",
       "      <td>55.851481250621774</td>\n",
       "      <td>34.7906480048992</td>\n",
       "      <td>63.82978723404253</td>\n",
       "      <td>0.1830000000000005</td>\n",
       "      <td>96.77438808907173</td>\n",
       "      <td>0.9775329846594005</td>\n",
       "      <td>15.873015873015891</td>\n",
       "      <td>25200.000000457218</td>\n",
       "      <td>134.9199309537143</td>\n",
       "      <td>4.753976e+09</td>\n",
       "    </tr>\n",
       "    <tr>\n",
       "      <th>4</th>\n",
       "      <td>104.45459021052889</td>\n",
       "      <td>4376.8851122467795</td>\n",
       "      <td>35.33111695474831</td>\n",
       "      <td>37.115029317113624</td>\n",
       "      <td>53.26861819928405</td>\n",
       "      <td>34.81621707223539</td>\n",
       "      <td>61.224489795918345</td>\n",
       "      <td>0.0</td>\n",
       "      <td>96.1420017764081</td>\n",
       "      <td>0.977550375563752</td>\n",
       "      <td>15.873015873015891</td>\n",
       "      <td>28800.000000535798</td>\n",
       "      <td>135.43062362752872</td>\n",
       "      <td>4.753980e+09</td>\n",
       "    </tr>\n",
       "  </tbody>\n",
       "</table>\n",
       "</div>"
      ],
      "text/plain": [
       "  ArterialPressure (mmHg)    BloodVolume (mL)  \\\n",
       "0       71.28676243083197    3548.50718478226   \n",
       "1       93.99098116631727  4002.2731715780296   \n",
       "2       68.87736491086095   4100.520399697919   \n",
       "3        82.4366139796762   4287.611827348773   \n",
       "4      104.45459021052889  4376.8851122467795   \n",
       "\n",
       "  Carina - CarbonDioxide - PartialPressure (mmHg) CoreTemperature (degC)  \\\n",
       "0                             0.34554619438818684      36.99430595628451   \n",
       "1                              34.687956014931224      37.11873707064615   \n",
       "2                              12.005161476969288       37.1176734733711   \n",
       "3                               0.432797692166674      37.11587290350849   \n",
       "4                               35.33111695474831     37.115029317113624   \n",
       "\n",
       "  DiastolicArterialPressure (mmHg) EndTidalCarbonDioxidePressure (mmHg)  \\\n",
       "0                67.96219981414428                   34.634862262460324   \n",
       "1               61.364960876693665                      34.762404662587   \n",
       "2                59.33913657324511                    34.78804928944777   \n",
       "3               55.851481250621774                     34.7906480048992   \n",
       "4                53.26861819928405                    34.81621707223539   \n",
       "\n",
       "    HeartRate (1/min) Lead3ElectricPotential (mV) MeanArterialPressure (mmHg)  \\\n",
       "0   88.23529411764703         0.06300000000000017            95.8533437288661   \n",
       "1   73.17073170731703         0.03249999999999997           97.20052973219747   \n",
       "2   69.76744186046508         0.09550000000000014           96.78533941799114   \n",
       "3   63.82978723404253          0.1830000000000005           96.77438808907173   \n",
       "4  61.224489795918345                         0.0            96.1420017764081   \n",
       "\n",
       "  OxygenSaturation (None) RespirationRate (1/min)   SimulationTime(s)  \\\n",
       "0       0.977097845497361      15.463917525773207                 0.0   \n",
       "1      0.9773571982769681      15.873015873015891  14400.000000221478   \n",
       "2      0.9774654224824183      15.873015873015891  18000.000000300057   \n",
       "3      0.9775329846594005      15.873015873015891  25200.000000457218   \n",
       "4       0.977550375563752      15.873015873015891  28800.000000535798   \n",
       "\n",
       "  SystolicArterialPressure (mmHg)          time  \n",
       "0              121.08104515439965  4.753951e+09  \n",
       "1              129.55738232975366  4.753966e+09  \n",
       "2              130.84788714224672  4.753969e+09  \n",
       "3               134.9199309537143  4.753976e+09  \n",
       "4              135.43062362752872  4.753980e+09  "
      ]
     },
     "execution_count": 3,
     "metadata": {},
     "output_type": "execute_result"
    }
   ],
   "source": [
    "simulation_sepsis.head()"
   ]
  },
  {
   "cell_type": "code",
   "execution_count": 4,
   "metadata": {},
   "outputs": [
    {
     "data": {
      "text/plain": [
       "27"
      ]
     },
     "execution_count": 4,
     "metadata": {},
     "output_type": "execute_result"
    }
   ],
   "source": [
    "len(simulation_sepsis)"
   ]
  },
  {
   "cell_type": "code",
   "execution_count": 5,
   "metadata": {},
   "outputs": [],
   "source": [
    "simulation_max_sepsis = pd.read_csv(export_dir + \"simulation_max_sepsis_\" + str(icustayid) + \"_final_1613368107.csv\")\n",
    "simulation_max_sepsis = simulation_max_sepsis.replace(r\"[\\[|\\]]\", \"\", regex=True)"
   ]
  },
  {
   "cell_type": "code",
   "execution_count": 6,
   "metadata": {},
   "outputs": [
    {
     "data": {
      "text/plain": [
       "27"
      ]
     },
     "execution_count": 6,
     "metadata": {},
     "output_type": "execute_result"
    }
   ],
   "source": [
    "len(simulation_max_sepsis)"
   ]
  },
  {
   "cell_type": "code",
   "execution_count": 7,
   "metadata": {},
   "outputs": [
    {
     "data": {
      "text/html": [
       "<div>\n",
       "<style scoped>\n",
       "    .dataframe tbody tr th:only-of-type {\n",
       "        vertical-align: middle;\n",
       "    }\n",
       "\n",
       "    .dataframe tbody tr th {\n",
       "        vertical-align: top;\n",
       "    }\n",
       "\n",
       "    .dataframe thead th {\n",
       "        text-align: right;\n",
       "    }\n",
       "</style>\n",
       "<table border=\"1\" class=\"dataframe\">\n",
       "  <thead>\n",
       "    <tr style=\"text-align: right;\">\n",
       "      <th></th>\n",
       "      <th>ArterialPressure (mmHg)</th>\n",
       "      <th>BloodVolume (mL)</th>\n",
       "      <th>Carina - CarbonDioxide - PartialPressure (mmHg)</th>\n",
       "      <th>CoreTemperature (degC)</th>\n",
       "      <th>DiastolicArterialPressure (mmHg)</th>\n",
       "      <th>EndTidalCarbonDioxidePressure (mmHg)</th>\n",
       "      <th>HeartRate (1/min)</th>\n",
       "      <th>Lead3ElectricPotential (mV)</th>\n",
       "      <th>MeanArterialPressure (mmHg)</th>\n",
       "      <th>OxygenSaturation (None)</th>\n",
       "      <th>RespirationRate (1/min)</th>\n",
       "      <th>SimulationTime(s)</th>\n",
       "      <th>SystolicArterialPressure (mmHg)</th>\n",
       "      <th>time</th>\n",
       "    </tr>\n",
       "  </thead>\n",
       "  <tbody>\n",
       "    <tr>\n",
       "      <th>0</th>\n",
       "      <td>71.28676243083197</td>\n",
       "      <td>3548.50718478226</td>\n",
       "      <td>0.34554619438818684</td>\n",
       "      <td>36.99430595628451</td>\n",
       "      <td>67.96219981414428</td>\n",
       "      <td>34.634862262460324</td>\n",
       "      <td>88.23529411764703</td>\n",
       "      <td>0.06300000000000017</td>\n",
       "      <td>95.8533437288661</td>\n",
       "      <td>0.977097845497361</td>\n",
       "      <td>15.463917525773207</td>\n",
       "      <td>0.0</td>\n",
       "      <td>121.08104515439965</td>\n",
       "      <td>4.753951e+09</td>\n",
       "    </tr>\n",
       "    <tr>\n",
       "      <th>1</th>\n",
       "      <td>93.99098116631727</td>\n",
       "      <td>4002.2731715780296</td>\n",
       "      <td>34.687956014931224</td>\n",
       "      <td>37.11873707064615</td>\n",
       "      <td>61.364960876693665</td>\n",
       "      <td>34.762404662587</td>\n",
       "      <td>73.17073170731703</td>\n",
       "      <td>0.03249999999999997</td>\n",
       "      <td>97.20052973219747</td>\n",
       "      <td>0.9773571982769681</td>\n",
       "      <td>15.873015873015891</td>\n",
       "      <td>14400.000000221478</td>\n",
       "      <td>129.55738232975366</td>\n",
       "      <td>4.753966e+09</td>\n",
       "    </tr>\n",
       "    <tr>\n",
       "      <th>2</th>\n",
       "      <td>68.87736491086095</td>\n",
       "      <td>4100.520399697919</td>\n",
       "      <td>12.005161476969288</td>\n",
       "      <td>37.1176734733711</td>\n",
       "      <td>59.33913657324511</td>\n",
       "      <td>34.78804928944777</td>\n",
       "      <td>69.76744186046508</td>\n",
       "      <td>0.09550000000000014</td>\n",
       "      <td>96.78533941799114</td>\n",
       "      <td>0.9774654224824183</td>\n",
       "      <td>15.873015873015891</td>\n",
       "      <td>18000.000000300057</td>\n",
       "      <td>130.84788714224672</td>\n",
       "      <td>4.753969e+09</td>\n",
       "    </tr>\n",
       "    <tr>\n",
       "      <th>3</th>\n",
       "      <td>82.4366139796762</td>\n",
       "      <td>4287.611827348773</td>\n",
       "      <td>0.432797692166674</td>\n",
       "      <td>37.11587290350849</td>\n",
       "      <td>55.851481250621774</td>\n",
       "      <td>34.7906480048992</td>\n",
       "      <td>63.82978723404253</td>\n",
       "      <td>0.1830000000000005</td>\n",
       "      <td>96.77438808907173</td>\n",
       "      <td>0.9775329846594005</td>\n",
       "      <td>15.873015873015891</td>\n",
       "      <td>25200.000000457218</td>\n",
       "      <td>134.9199309537143</td>\n",
       "      <td>4.753976e+09</td>\n",
       "    </tr>\n",
       "    <tr>\n",
       "      <th>4</th>\n",
       "      <td>104.45459021052889</td>\n",
       "      <td>4376.8851122467795</td>\n",
       "      <td>35.33111695474831</td>\n",
       "      <td>37.115029317113624</td>\n",
       "      <td>53.26861819928405</td>\n",
       "      <td>34.81621707223539</td>\n",
       "      <td>61.224489795918345</td>\n",
       "      <td>0.0</td>\n",
       "      <td>96.1420017764081</td>\n",
       "      <td>0.977550375563752</td>\n",
       "      <td>15.873015873015891</td>\n",
       "      <td>28800.000000535798</td>\n",
       "      <td>135.43062362752872</td>\n",
       "      <td>4.753980e+09</td>\n",
       "    </tr>\n",
       "  </tbody>\n",
       "</table>\n",
       "</div>"
      ],
      "text/plain": [
       "  ArterialPressure (mmHg)    BloodVolume (mL)  \\\n",
       "0       71.28676243083197    3548.50718478226   \n",
       "1       93.99098116631727  4002.2731715780296   \n",
       "2       68.87736491086095   4100.520399697919   \n",
       "3        82.4366139796762   4287.611827348773   \n",
       "4      104.45459021052889  4376.8851122467795   \n",
       "\n",
       "  Carina - CarbonDioxide - PartialPressure (mmHg) CoreTemperature (degC)  \\\n",
       "0                             0.34554619438818684      36.99430595628451   \n",
       "1                              34.687956014931224      37.11873707064615   \n",
       "2                              12.005161476969288       37.1176734733711   \n",
       "3                               0.432797692166674      37.11587290350849   \n",
       "4                               35.33111695474831     37.115029317113624   \n",
       "\n",
       "  DiastolicArterialPressure (mmHg) EndTidalCarbonDioxidePressure (mmHg)  \\\n",
       "0                67.96219981414428                   34.634862262460324   \n",
       "1               61.364960876693665                      34.762404662587   \n",
       "2                59.33913657324511                    34.78804928944777   \n",
       "3               55.851481250621774                     34.7906480048992   \n",
       "4                53.26861819928405                    34.81621707223539   \n",
       "\n",
       "    HeartRate (1/min) Lead3ElectricPotential (mV) MeanArterialPressure (mmHg)  \\\n",
       "0   88.23529411764703         0.06300000000000017            95.8533437288661   \n",
       "1   73.17073170731703         0.03249999999999997           97.20052973219747   \n",
       "2   69.76744186046508         0.09550000000000014           96.78533941799114   \n",
       "3   63.82978723404253          0.1830000000000005           96.77438808907173   \n",
       "4  61.224489795918345                         0.0            96.1420017764081   \n",
       "\n",
       "  OxygenSaturation (None) RespirationRate (1/min)   SimulationTime(s)  \\\n",
       "0       0.977097845497361      15.463917525773207                 0.0   \n",
       "1      0.9773571982769681      15.873015873015891  14400.000000221478   \n",
       "2      0.9774654224824183      15.873015873015891  18000.000000300057   \n",
       "3      0.9775329846594005      15.873015873015891  25200.000000457218   \n",
       "4       0.977550375563752      15.873015873015891  28800.000000535798   \n",
       "\n",
       "  SystolicArterialPressure (mmHg)          time  \n",
       "0              121.08104515439965  4.753951e+09  \n",
       "1              129.55738232975366  4.753966e+09  \n",
       "2              130.84788714224672  4.753969e+09  \n",
       "3               134.9199309537143  4.753976e+09  \n",
       "4              135.43062362752872  4.753980e+09  "
      ]
     },
     "execution_count": 7,
     "metadata": {},
     "output_type": "execute_result"
    }
   ],
   "source": [
    "simulation_max_sepsis.head()"
   ]
  },
  {
   "cell_type": "code",
   "execution_count": 8,
   "metadata": {},
   "outputs": [],
   "source": [
    "time = simulation_sepsis['time']\n",
    "diaBP_sepsis = simulation_sepsis['DiastolicArterialPressure (mmHg)']\n",
    "diaBP_max_sepsis = simulation_max_sepsis['DiastolicArterialPressure (mmHg)']"
   ]
  },
  {
   "cell_type": "code",
   "execution_count": 9,
   "metadata": {},
   "outputs": [
    {
     "data": {
      "image/png": "[encoded data removed]",
      "text/plain": [
       "<Figure size 432x288 with 1 Axes>"
      ]
     },
     "metadata": {
      "needs_background": "light"
     },
     "output_type": "display_data"
    }
   ],
   "source": [
    "import matplotlib.pyplot as plt\n",
    "plt.plot(time, pd.to_numeric(diaBP_sepsis))\n",
    "plt.plot(time, pd.to_numeric(diaBP_max_sepsis))\n",
    "plt.xlabel('Time(s)')\n",
    "plt.ylabel('mmHg')\n",
    "plt.title('Diastolic Arterial Pressure')\n",
    "plt.legend(['Sepsis', 'Max Sepsis'])\n",
    "plt.show()"
   ]
  },
  {
   "cell_type": "code",
   "execution_count": 10,
   "metadata": {},
   "outputs": [
    {
     "data": {
      "image/png": "[encoded data removed]",
      "text/plain": [
       "<Figure size 432x288 with 1 Axes>"
      ]
     },
     "metadata": {
      "needs_background": "light"
     },
     "output_type": "display_data"
    }
   ],
   "source": [
    "sysBP_sepsis = simulation_sepsis['SystolicArterialPressure (mmHg)']\n",
    "sysBP_max_sepsis = simulation_max_sepsis['SystolicArterialPressure (mmHg)']\n",
    "plt.plot(time, pd.to_numeric(sysBP_sepsis))\n",
    "plt.plot(time, pd.to_numeric(sysBP_max_sepsis))\n",
    "plt.xlabel('Time(s)')\n",
    "plt.ylabel('mmHg')\n",
    "plt.title('Systolic Arterial Pressure')\n",
    "plt.legend(['Sepsis', 'Max Sepsis'])\n",
    "plt.show()"
   ]
  },
  {
   "cell_type": "code",
   "execution_count": 11,
   "metadata": {},
   "outputs": [
    {
     "data": {
      "image/png": "[encoded data removed]",
      "text/plain": [
       "<Figure size 432x288 with 1 Axes>"
      ]
     },
     "metadata": {
      "needs_background": "light"
     },
     "output_type": "display_data"
    }
   ],
   "source": [
    "meanBP_sepsis = simulation_sepsis['MeanArterialPressure (mmHg)']\n",
    "meanBP_max_sepsis = simulation_max_sepsis['MeanArterialPressure (mmHg)']\n",
    "plt.plot(time, pd.to_numeric(meanBP_sepsis))\n",
    "plt.plot(time, pd.to_numeric(meanBP_max_sepsis))\n",
    "plt.xlabel('Time(s)')\n",
    "plt.ylabel('mmHg')\n",
    "plt.title('Mean Arterial Pressure')\n",
    "plt.legend(['Sepsis', 'Max Sepsis'])\n",
    "plt.show()"
   ]
  },
  {
   "cell_type": "code",
   "execution_count": 12,
   "metadata": {},
   "outputs": [
    {
     "data": {
      "image/png": "[encoded data removed]",
      "text/plain": [
       "<Figure size 432x288 with 1 Axes>"
      ]
     },
     "metadata": {
      "needs_background": "light"
     },
     "output_type": "display_data"
    }
   ],
   "source": [
    "HR_sepsis = simulation_sepsis['HeartRate (1/min)']\n",
    "HR_max_sepsis = simulation_max_sepsis['HeartRate (1/min)']\n",
    "plt.plot(time, pd.to_numeric(HR_sepsis))\n",
    "plt.plot(time, pd.to_numeric(HR_max_sepsis))\n",
    "plt.xlabel('Time(s)')\n",
    "plt.ylabel('bpm')\n",
    "plt.title('Heart Rate')\n",
    "plt.legend(['Sepsis', 'Max Sepsis'])\n",
    "plt.show()"
   ]
  },
  {
   "cell_type": "code",
   "execution_count": 13,
   "metadata": {},
   "outputs": [
    {
     "data": {
      "image/png": "[encoded data removed]",
      "text/plain": [
       "<Figure size 432x288 with 1 Axes>"
      ]
     },
     "metadata": {
      "needs_background": "light"
     },
     "output_type": "display_data"
    }
   ],
   "source": [
    "RR_sepsis = simulation_sepsis['RespirationRate (1/min)']\n",
    "RR_max_sepsis = simulation_max_sepsis['RespirationRate (1/min)']\n",
    "plt.plot(time, pd.to_numeric(RR_sepsis))\n",
    "plt.plot(time, pd.to_numeric(RR_max_sepsis))\n",
    "plt.xlabel('Time(s)')\n",
    "plt.ylabel('(1/min)')\n",
    "plt.title('Respiration Rate')\n",
    "plt.legend(['Sepsis', 'Max Sepsis'])\n",
    "plt.show()"
   ]
  },
  {
   "cell_type": "code",
   "execution_count": 14,
   "metadata": {},
   "outputs": [
    {
     "data": {
      "image/png": "[encoded data removed]",
      "text/plain": [
       "<Figure size 432x288 with 1 Axes>"
      ]
     },
     "metadata": {
      "needs_background": "light"
     },
     "output_type": "display_data"
    }
   ],
   "source": [
    "temp_sepsis = simulation_sepsis['CoreTemperature (degC)']\n",
    "temp_max_sepsis = simulation_max_sepsis['CoreTemperature (degC)']\n",
    "plt.plot(time, pd.to_numeric(temp_sepsis))\n",
    "plt.plot(time, pd.to_numeric(temp_max_sepsis))\n",
    "plt.xlabel('Time(s)')\n",
    "plt.ylabel('C')\n",
    "plt.title('Core Temperature')\n",
    "plt.legend(['Sepsis', 'Max Sepsis'])\n",
    "plt.show()"
   ]
  }
 ],
 "metadata": {
  "kernelspec": {
   "display_name": "Python 3",
   "language": "python",
   "name": "python3"
  },
  "language_info": {
   "codemirror_mode": {
    "name": "ipython",
    "version": 3
   },
   "file_extension": ".py",
   "mimetype": "text/x-python",
   "name": "python",
   "nbconvert_exporter": "python",
   "pygments_lexer": "ipython3",
   "version": "3.8.7"
  }
 },
 "nbformat": 4,
 "nbformat_minor": 4
}
